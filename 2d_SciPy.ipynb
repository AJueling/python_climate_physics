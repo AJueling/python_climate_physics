{
 "cells": [
  {
   "cell_type": "markdown",
   "metadata": {},
   "source": [
    "# Workshop 2\n",
    "# Part IV: Scipy\n",
    "This is very short introduction to Scipy, much of content here is taken from the excellent [SciPy tutorial](https://docs.scipy.org/doc/scipy/reference/tutorial/general.html).\n",
    "\n",
    "SciPy is a collection of mathematical algorithms and convenience functions built on the NumPy extension of Python. It adds significant power to the interactive Python session by providing the user with high-level commands and classes for manipulating and visualizing data.\n",
    "\n",
    "SciPy is organized into subpackages covering different scientific computing domains. These are summarized in the following table:\n",
    "\n",
    "| Subpackage | Description |\n",
    "|---| ---|\n",
    "| cluster    | Clustering algorithms |\n",
    "| constants | Physical and mathematical constants |\n",
    "| fftpack | Fast Fourier Transform routine |\n",
    "| integrate| Integration and ordinary differential equation solvers |\n",
    "| interpolate | Interpolation and smoothing splines |\n",
    "| io | Input and Output |\n",
    "| linalg | Linear algebra |\n",
    "| ndimage | N-dimensional image processing |\n",
    "| odr | Orthogonal distance regression |\n",
    "| optimize | Optimization and root-finding routines |\n",
    "| signal | Signal processing |\n",
    "| sparse | Sparse matrices and associated routines |\n",
    "| spatial | Spatial data structures and algorithms |\n",
    "| special | Special functions |\n",
    "| stats | Statistical distributions and functions |\n",
    "\n",
    "These subpackages are called explicitly: "
   ]
  },
  {
   "cell_type": "code",
   "execution_count": 7,
   "metadata": {},
   "outputs": [],
   "source": [
    "import numpy as np\n",
    "import matplotlib.pyplot as plt\n",
    "from scipy.interpolate import interp1d\n",
    "\n",
    "%matplotlib inline"
   ]
  },
  {
   "cell_type": "code",
   "execution_count": 8,
   "metadata": {
    "collapsed": true,
    "jupyter": {
     "outputs_hidden": true
    }
   },
   "outputs": [
    {
     "data": {
      "text/plain": [
       "\u001b[0;31mInit signature:\u001b[0m\n",
       "\u001b[0minterp1d\u001b[0m\u001b[0;34m(\u001b[0m\u001b[0;34m\u001b[0m\n",
       "\u001b[0;34m\u001b[0m    \u001b[0mx\u001b[0m\u001b[0;34m,\u001b[0m\u001b[0;34m\u001b[0m\n",
       "\u001b[0;34m\u001b[0m    \u001b[0my\u001b[0m\u001b[0;34m,\u001b[0m\u001b[0;34m\u001b[0m\n",
       "\u001b[0;34m\u001b[0m    \u001b[0mkind\u001b[0m\u001b[0;34m=\u001b[0m\u001b[0;34m'linear'\u001b[0m\u001b[0;34m,\u001b[0m\u001b[0;34m\u001b[0m\n",
       "\u001b[0;34m\u001b[0m    \u001b[0maxis\u001b[0m\u001b[0;34m=\u001b[0m\u001b[0;34m-\u001b[0m\u001b[0;36m1\u001b[0m\u001b[0;34m,\u001b[0m\u001b[0;34m\u001b[0m\n",
       "\u001b[0;34m\u001b[0m    \u001b[0mcopy\u001b[0m\u001b[0;34m=\u001b[0m\u001b[0;32mTrue\u001b[0m\u001b[0;34m,\u001b[0m\u001b[0;34m\u001b[0m\n",
       "\u001b[0;34m\u001b[0m    \u001b[0mbounds_error\u001b[0m\u001b[0;34m=\u001b[0m\u001b[0;32mNone\u001b[0m\u001b[0;34m,\u001b[0m\u001b[0;34m\u001b[0m\n",
       "\u001b[0;34m\u001b[0m    \u001b[0mfill_value\u001b[0m\u001b[0;34m=\u001b[0m\u001b[0mnan\u001b[0m\u001b[0;34m,\u001b[0m\u001b[0;34m\u001b[0m\n",
       "\u001b[0;34m\u001b[0m    \u001b[0massume_sorted\u001b[0m\u001b[0;34m=\u001b[0m\u001b[0;32mFalse\u001b[0m\u001b[0;34m,\u001b[0m\u001b[0;34m\u001b[0m\n",
       "\u001b[0;34m\u001b[0m\u001b[0;34m)\u001b[0m\u001b[0;34m\u001b[0m\u001b[0;34m\u001b[0m\u001b[0m\n",
       "\u001b[0;31mDocstring:\u001b[0m     \n",
       "Interpolate a 1-D function.\n",
       "\n",
       "`x` and `y` are arrays of values used to approximate some function f:\n",
       "``y = f(x)``. This class returns a function whose call method uses\n",
       "interpolation to find the value of new points.\n",
       "\n",
       "Note that calling `interp1d` with NaNs present in input values results in\n",
       "undefined behaviour.\n",
       "\n",
       "Parameters\n",
       "----------\n",
       "x : (N,) array_like\n",
       "    A 1-D array of real values.\n",
       "y : (...,N,...) array_like\n",
       "    A N-D array of real values. The length of `y` along the interpolation\n",
       "    axis must be equal to the length of `x`.\n",
       "kind : str or int, optional\n",
       "    Specifies the kind of interpolation as a string\n",
       "    ('linear', 'nearest', 'zero', 'slinear', 'quadratic', 'cubic',\n",
       "    'previous', 'next', where 'zero', 'slinear', 'quadratic' and 'cubic'\n",
       "    refer to a spline interpolation of zeroth, first, second or third\n",
       "    order; 'previous' and 'next' simply return the previous or next value\n",
       "    of the point) or as an integer specifying the order of the spline\n",
       "    interpolator to use.\n",
       "    Default is 'linear'.\n",
       "axis : int, optional\n",
       "    Specifies the axis of `y` along which to interpolate.\n",
       "    Interpolation defaults to the last axis of `y`.\n",
       "copy : bool, optional\n",
       "    If True, the class makes internal copies of x and y.\n",
       "    If False, references to `x` and `y` are used. The default is to copy.\n",
       "bounds_error : bool, optional\n",
       "    If True, a ValueError is raised any time interpolation is attempted on\n",
       "    a value outside of the range of x (where extrapolation is\n",
       "    necessary). If False, out of bounds values are assigned `fill_value`.\n",
       "    By default, an error is raised unless ``fill_value=\"extrapolate\"``.\n",
       "fill_value : array-like or (array-like, array_like) or \"extrapolate\", optional\n",
       "    - if a ndarray (or float), this value will be used to fill in for\n",
       "      requested points outside of the data range. If not provided, then\n",
       "      the default is NaN. The array-like must broadcast properly to the\n",
       "      dimensions of the non-interpolation axes.\n",
       "    - If a two-element tuple, then the first element is used as a\n",
       "      fill value for ``x_new < x[0]`` and the second element is used for\n",
       "      ``x_new > x[-1]``. Anything that is not a 2-element tuple (e.g.,\n",
       "      list or ndarray, regardless of shape) is taken to be a single\n",
       "      array-like argument meant to be used for both bounds as\n",
       "      ``below, above = fill_value, fill_value``.\n",
       "\n",
       "      .. versionadded:: 0.17.0\n",
       "    - If \"extrapolate\", then points outside the data range will be\n",
       "      extrapolated.\n",
       "\n",
       "      .. versionadded:: 0.17.0\n",
       "assume_sorted : bool, optional\n",
       "    If False, values of `x` can be in any order and they are sorted first.\n",
       "    If True, `x` has to be an array of monotonically increasing values.\n",
       "\n",
       "Attributes\n",
       "----------\n",
       "fill_value\n",
       "\n",
       "Methods\n",
       "-------\n",
       "__call__\n",
       "\n",
       "See Also\n",
       "--------\n",
       "splrep, splev\n",
       "    Spline interpolation/smoothing based on FITPACK.\n",
       "UnivariateSpline : An object-oriented wrapper of the FITPACK routines.\n",
       "interp2d : 2-D interpolation\n",
       "\n",
       "Examples\n",
       "--------\n",
       ">>> import matplotlib.pyplot as plt\n",
       ">>> from scipy import interpolate\n",
       ">>> x = np.arange(0, 10)\n",
       ">>> y = np.exp(-x/3.0)\n",
       ">>> f = interpolate.interp1d(x, y)\n",
       "\n",
       ">>> xnew = np.arange(0, 9, 0.1)\n",
       ">>> ynew = f(xnew)   # use interpolation function returned by `interp1d`\n",
       ">>> plt.plot(x, y, 'o', xnew, ynew, '-')\n",
       ">>> plt.show()\n",
       "\u001b[0;31mInit docstring:\u001b[0m Initialize a 1-D linear interpolation class.\n",
       "\u001b[0;31mFile:\u001b[0m           ~/miniconda3/envs/teach/lib/python3.8/site-packages/scipy/interpolate/interpolate.py\n",
       "\u001b[0;31mType:\u001b[0m           type\n",
       "\u001b[0;31mSubclasses:\u001b[0m     \n"
      ]
     },
     "metadata": {},
     "output_type": "display_data"
    }
   ],
   "source": [
    "interp1d?"
   ]
  },
  {
   "cell_type": "code",
   "execution_count": 2,
   "metadata": {},
   "outputs": [
    {
     "data": {
      "image/png": "[encoded data removed]",
      "text/plain": [
       "<Figure size 432x288 with 1 Axes>"
      ]
     },
     "metadata": {
      "needs_background": "light"
     },
     "output_type": "display_data"
    }
   ],
   "source": [
    "x = np.linspace(0, 10, num=11, endpoint=True)\n",
    "y = np.cos(-x**2/9.0)\n",
    "f = interp1d(x, y)\n",
    "f2 = interp1d(x, y, kind='cubic')\n",
    "\n",
    "xnew = np.linspace(0, 10, num=41, endpoint=True)\n",
    "plt.plot(x, y, 'o')\n",
    "plt.plot(xnew, f(xnew), '-')\n",
    "plt.plot(xnew, f2(xnew), '--')\n",
    "plt.legend(['data', 'linear', 'cubic'], loc='best')\n",
    "plt.show()"
   ]
  },
  {
   "cell_type": "markdown",
   "metadata": {},
   "source": [
    "## <span style=\"color:blue\">Exercise</span>\n",
    "This time, only a single exercise to make you familiar with the use pattern of SciPy."
   ]
  },
  {
   "cell_type": "markdown",
   "metadata": {},
   "source": [
    "1. Use a SciPy function to solve a linear regression problem of the following random data:\n",
    "```\n",
    "np.random.seed(12345678)\n",
    "x = np.random.random(10)\n",
    "y = 1.6*x + np.random.random(10)\n",
    "```\n",
    "Print the slope, intercept, and $R^2$ values and make a plot.\n",
    "<img src=\"figures/2d1.png\" width=\"600\">"
   ]
  },
  {
   "cell_type": "code",
   "execution_count": null,
   "metadata": {},
   "outputs": [],
   "source": []
  },
  {
   "cell_type": "markdown",
   "metadata": {},
   "source": [
    "## <span style=\"color:green\">Solutions</span>\n",
    "Again, this is a  possible solutions."
   ]
  },
  {
   "cell_type": "code",
   "execution_count": 3,
   "metadata": {
    "collapsed": true,
    "jupyter": {
     "outputs_hidden": true,
     "source_hidden": true
    }
   },
   "outputs": [
    {
     "name": "stdout",
     "output_type": "stream",
     "text": [
      "slope: 1.9448642607472155; intercept: 0.26857823524544855; R^2: 0.7354980392850927\n"
     ]
    },
    {
     "data": {
      "image/png": "[encoded data removed]",
      "text/plain": [
       "<Figure size 432x288 with 1 Axes>"
      ]
     },
     "metadata": {
      "needs_background": "light"
     },
     "output_type": "display_data"
    }
   ],
   "source": [
    "# 1. Use a SciPy function to solve a linear regression problem\n",
    "# of the following random data [...].\n",
    "# Print the slope, intercept, and $R^2$ values and make a plot\n",
    "from scipy import stats\n",
    "\n",
    "np.random.seed(12345678)\n",
    "x = np.random.random(10)\n",
    "y = 1.6*x + np.random.random(10)\n",
    "\n",
    "slope, intercept, r_value, p_value, std_err = stats.linregress(x, y)\n",
    "print(f'slope: {slope}; intercept: {intercept}; R^2: {r_value**2}')\n",
    "\n",
    "plt.plot(x, y, 'o', label='original data')\n",
    "plt.plot(x, intercept + slope*x, 'r', label='fitted line')\n",
    "plt.legend()\n",
    "plt.savefig('figures/2d1')"
   ]
  }
 ],
 "metadata": {
  "kernelspec": {
   "display_name": "Python 3",
   "language": "python",
   "name": "python3"
  },
  "language_info": {
   "codemirror_mode": {
    "name": "ipython",
    "version": 3
   },
   "file_extension": ".py",
   "mimetype": "text/x-python",
   "name": "python",
   "nbconvert_exporter": "python",
   "pygments_lexer": "ipython3",
   "version": "3.8.5"
  }
 },
 "nbformat": 4,
 "nbformat_minor": 4
}
