{
 "cells": [
  {
   "cell_type": "markdown",
   "metadata": {},
   "source": [
    "# Workshop 3:  pandas, netCDF, xarray\n",
    "\n",
    "# Part I:  pandas\n",
    "\n",
    "Pandas is a an open source library providing high-performance, easy-to-use data structures and data analysis tools. Pandas is particularly suited to the analysis of tabular data, i.e. data that can can go into a table. In other words, if you can imagine the data in an Excel spreadsheet, then Pandas is the tool for the job. In the climate context it is useful for time series analysis."
   ]
  },
  {
   "cell_type": "code",
   "execution_count": 1,
   "metadata": {},
   "outputs": [],
   "source": [
    "import pandas as pd\n",
    "import numpy as np\n",
    "from matplotlib import pyplot as plt\n",
    "%matplotlib inline"
   ]
  },
  {
   "cell_type": "markdown",
   "metadata": {},
   "source": [
    "## Pandas Data Structures: Series\n",
    "\n",
    "A Series represents a one-dimensional array of data. The main difference between a Series and numpy array is that a Series has an _index_. The index contains the labels that we use to access the data.\n",
    "\n",
    "There are many ways to [create a Series](https://pandas.pydata.org/pandas-docs/stable/dsintro.html#series). We will just show a few."
   ]
  },
  {
   "cell_type": "code",
   "execution_count": 2,
   "metadata": {},
   "outputs": [
    {
     "data": {
      "text/plain": [
       "Alice     30\n",
       "Bob       15\n",
       "Claire    22\n",
       "dtype: int64"
      ]
     },
     "execution_count": 2,
     "metadata": {},
     "output_type": "execute_result"
    }
   ],
   "source": [
    "names = ['Alice', 'Bob', 'Claire']\n",
    "values = [30, 15, 22]\n",
    "ages = pd.Series(values, index=names)\n",
    "ages"
   ]
  },
  {
   "cell_type": "markdown",
   "metadata": {},
   "source": [
    "Series have built in plotting methods."
   ]
  },
  {
   "cell_type": "code",
   "execution_count": 3,
   "metadata": {},
   "outputs": [
    {
     "data": {
      "text/plain": [
       "<AxesSubplot:>"
      ]
     },
     "execution_count": 3,
     "metadata": {},
     "output_type": "execute_result"
    },
    {
     "data": {
      "image/png": "[encoded data removed]",
      "text/plain": [
       "<Figure size 432x288 with 1 Axes>"
      ]
     },
     "metadata": {
      "needs_background": "light"
     },
     "output_type": "display_data"
    }
   ],
   "source": [
    "ages.plot(kind='bar')"
   ]
  },
  {
   "cell_type": "markdown",
   "metadata": {},
   "source": [
    "Arithmetic operations and most numpy function can be applied to Series.\n",
    "An important point is that the Series keep their index during such operations."
   ]
  },
  {
   "cell_type": "code",
   "execution_count": 4,
   "metadata": {},
   "outputs": [
    {
     "data": {
      "text/plain": [
       "Alice     0.003779\n",
       "Bob       0.012036\n",
       "Claire    0.006386\n",
       "dtype: float64"
      ]
     },
     "execution_count": 4,
     "metadata": {},
     "output_type": "execute_result"
    }
   ],
   "source": [
    "np.log(ages) / ages**2"
   ]
  },
  {
   "cell_type": "markdown",
   "metadata": {},
   "source": [
    "We can access the underlying index object if we need to:"
   ]
  },
  {
   "cell_type": "code",
   "execution_count": 5,
   "metadata": {},
   "outputs": [
    {
     "data": {
      "text/plain": [
       "Index(['Alice', 'Bob', 'Claire'], dtype='object')"
      ]
     },
     "execution_count": 5,
     "metadata": {},
     "output_type": "execute_result"
    }
   ],
   "source": [
    "ages.index"
   ]
  },
  {
   "cell_type": "markdown",
   "metadata": {},
   "source": [
    "### Indexing\n",
    "\n",
    "We can get values back out using the index via the `.loc` attribute"
   ]
  },
  {
   "cell_type": "code",
   "execution_count": 6,
   "metadata": {},
   "outputs": [
    {
     "data": {
      "text/plain": [
       "22"
      ]
     },
     "execution_count": 6,
     "metadata": {},
     "output_type": "execute_result"
    }
   ],
   "source": [
    "ages.loc['Claire']"
   ]
  },
  {
   "cell_type": "markdown",
   "metadata": {},
   "source": [
    "Or by raw position using `.iloc`"
   ]
  },
  {
   "cell_type": "code",
   "execution_count": 7,
   "metadata": {},
   "outputs": [
    {
     "data": {
      "text/plain": [
       "22"
      ]
     },
     "execution_count": 7,
     "metadata": {},
     "output_type": "execute_result"
    }
   ],
   "source": [
    "ages.iloc[2]"
   ]
  },
  {
   "cell_type": "markdown",
   "metadata": {},
   "source": [
    "We can pass a list or array to loc to get multiple rows back:"
   ]
  },
  {
   "cell_type": "code",
   "execution_count": 8,
   "metadata": {},
   "outputs": [
    {
     "data": {
      "text/plain": [
       "Bob      15\n",
       "Alice    30\n",
       "dtype: int64"
      ]
     },
     "execution_count": 8,
     "metadata": {},
     "output_type": "execute_result"
    }
   ],
   "source": [
    "ages.loc[['Bob', 'Alice']]"
   ]
  },
  {
   "cell_type": "markdown",
   "metadata": {},
   "source": [
    "And we can even use slice notation"
   ]
  },
  {
   "cell_type": "code",
   "execution_count": 9,
   "metadata": {},
   "outputs": [
    {
     "data": {
      "text/plain": [
       "Alice     30\n",
       "Bob       15\n",
       "Claire    22\n",
       "dtype: int64"
      ]
     },
     "execution_count": 9,
     "metadata": {},
     "output_type": "execute_result"
    }
   ],
   "source": [
    "ages.loc['Alice':'Claire']"
   ]
  },
  {
   "cell_type": "code",
   "execution_count": 10,
   "metadata": {},
   "outputs": [
    {
     "data": {
      "text/plain": [
       "Bob       15\n",
       "Claire    22\n",
       "dtype: int64"
      ]
     },
     "execution_count": 10,
     "metadata": {},
     "output_type": "execute_result"
    }
   ],
   "source": [
    "ages.iloc[1:]"
   ]
  },
  {
   "cell_type": "markdown",
   "metadata": {},
   "source": [
    "If we need to, we can always get the raw data back out as well"
   ]
  },
  {
   "cell_type": "code",
   "execution_count": 11,
   "metadata": {},
   "outputs": [
    {
     "data": {
      "text/plain": [
       "array([30, 15, 22])"
      ]
     },
     "execution_count": 11,
     "metadata": {},
     "output_type": "execute_result"
    }
   ],
   "source": [
    "ages.values # a numpy array"
   ]
  },
  {
   "cell_type": "code",
   "execution_count": 12,
   "metadata": {},
   "outputs": [
    {
     "data": {
      "text/plain": [
       "Index(['Alice', 'Bob', 'Claire'], dtype='object')"
      ]
     },
     "execution_count": 12,
     "metadata": {},
     "output_type": "execute_result"
    }
   ],
   "source": [
    "ages.index # a pandas Index object"
   ]
  },
  {
   "cell_type": "markdown",
   "metadata": {},
   "source": [
    "## Pandas Data Structures: DataFrame\n",
    "\n",
    "There is a lot more to Series, but they are limit to a single \"column\". A more useful Pandas data structure is the DataFrame. A DataFrame is basically a bunch of series that share the same index. It's a lot like a table in a spreadsheet.\n",
    "\n",
    "Below we create a DataFrame."
   ]
  },
  {
   "cell_type": "code",
   "execution_count": 13,
   "metadata": {},
   "outputs": [
    {
     "data": {
      "text/html": [
       "<div>\n",
       "<style scoped>\n",
       "    .dataframe tbody tr th:only-of-type {\n",
       "        vertical-align: middle;\n",
       "    }\n",
       "\n",
       "    .dataframe tbody tr th {\n",
       "        vertical-align: top;\n",
       "    }\n",
       "\n",
       "    .dataframe thead th {\n",
       "        text-align: right;\n",
       "    }\n",
       "</style>\n",
       "<table border=\"1\" class=\"dataframe\">\n",
       "  <thead>\n",
       "    <tr style=\"text-align: right;\">\n",
       "      <th></th>\n",
       "      <th>age</th>\n",
       "      <th>height</th>\n",
       "      <th>weight</th>\n",
       "    </tr>\n",
       "  </thead>\n",
       "  <tbody>\n",
       "    <tr>\n",
       "      <th>Alice</th>\n",
       "      <td>30</td>\n",
       "      <td>180</td>\n",
       "      <td>70.0</td>\n",
       "    </tr>\n",
       "    <tr>\n",
       "      <th>Bob</th>\n",
       "      <td>15</td>\n",
       "      <td>155</td>\n",
       "      <td>52.0</td>\n",
       "    </tr>\n",
       "    <tr>\n",
       "      <th>Claire</th>\n",
       "      <td>22</td>\n",
       "      <td>160</td>\n",
       "      <td>NaN</td>\n",
       "    </tr>\n",
       "  </tbody>\n",
       "</table>\n",
       "</div>"
      ],
      "text/plain": [
       "        age  height  weight\n",
       "Alice    30     180    70.0\n",
       "Bob      15     155    52.0\n",
       "Claire   22     160     NaN"
      ]
     },
     "execution_count": 13,
     "metadata": {},
     "output_type": "execute_result"
    }
   ],
   "source": [
    "# first we create a dictionary\n",
    "data = {'age': [30, 15, 22],\n",
    "        'height': [180, 155, 160],\n",
    "        'weight': [70, 52, np.nan]}\n",
    "df = pd.DataFrame(data, index=['Alice', 'Bob', 'Claire'])\n",
    "df"
   ]
  },
  {
   "cell_type": "markdown",
   "metadata": {},
   "source": [
    "Pandas handles missing data very elegantly, keeping track of it through all calculations."
   ]
  },
  {
   "cell_type": "code",
   "execution_count": 14,
   "metadata": {},
   "outputs": [
    {
     "name": "stdout",
     "output_type": "stream",
     "text": [
      "<class 'pandas.core.frame.DataFrame'>\n",
      "Index: 3 entries, Alice to Claire\n",
      "Data columns (total 3 columns):\n",
      " #   Column  Non-Null Count  Dtype  \n",
      "---  ------  --------------  -----  \n",
      " 0   age     3 non-null      int64  \n",
      " 1   height  3 non-null      int64  \n",
      " 2   weight  2 non-null      float64\n",
      "dtypes: float64(1), int64(2)\n",
      "memory usage: 96.0+ bytes\n"
     ]
    }
   ],
   "source": [
    "df.info()"
   ]
  },
  {
   "cell_type": "markdown",
   "metadata": {},
   "source": [
    "A wide range of statistical functions are available on both Series and DataFrames."
   ]
  },
  {
   "cell_type": "code",
   "execution_count": 15,
   "metadata": {},
   "outputs": [
    {
     "data": {
      "text/plain": [
       "age        15.0\n",
       "height    155.0\n",
       "weight     52.0\n",
       "dtype: float64"
      ]
     },
     "execution_count": 15,
     "metadata": {},
     "output_type": "execute_result"
    }
   ],
   "source": [
    "df.min()"
   ]
  },
  {
   "cell_type": "code",
   "execution_count": 16,
   "metadata": {},
   "outputs": [
    {
     "data": {
      "text/plain": [
       "age        22.333333\n",
       "height    165.000000\n",
       "weight     61.000000\n",
       "dtype: float64"
      ]
     },
     "execution_count": 16,
     "metadata": {},
     "output_type": "execute_result"
    }
   ],
   "source": [
    "df.mean()"
   ]
  },
  {
   "cell_type": "code",
   "execution_count": 17,
   "metadata": {},
   "outputs": [
    {
     "data": {
      "text/plain": [
       "age        7.505553\n",
       "height    13.228757\n",
       "weight    12.727922\n",
       "dtype: float64"
      ]
     },
     "execution_count": 17,
     "metadata": {},
     "output_type": "execute_result"
    }
   ],
   "source": [
    "df.std()"
   ]
  },
  {
   "cell_type": "code",
   "execution_count": 18,
   "metadata": {},
   "outputs": [
    {
     "data": {
      "text/html": [
       "<div>\n",
       "<style scoped>\n",
       "    .dataframe tbody tr th:only-of-type {\n",
       "        vertical-align: middle;\n",
       "    }\n",
       "\n",
       "    .dataframe tbody tr th {\n",
       "        vertical-align: top;\n",
       "    }\n",
       "\n",
       "    .dataframe thead th {\n",
       "        text-align: right;\n",
       "    }\n",
       "</style>\n",
       "<table border=\"1\" class=\"dataframe\">\n",
       "  <thead>\n",
       "    <tr style=\"text-align: right;\">\n",
       "      <th></th>\n",
       "      <th>age</th>\n",
       "      <th>height</th>\n",
       "      <th>weight</th>\n",
       "    </tr>\n",
       "  </thead>\n",
       "  <tbody>\n",
       "    <tr>\n",
       "      <th>count</th>\n",
       "      <td>3.000000</td>\n",
       "      <td>3.000000</td>\n",
       "      <td>2.000000</td>\n",
       "    </tr>\n",
       "    <tr>\n",
       "      <th>mean</th>\n",
       "      <td>22.333333</td>\n",
       "      <td>165.000000</td>\n",
       "      <td>61.000000</td>\n",
       "    </tr>\n",
       "    <tr>\n",
       "      <th>std</th>\n",
       "      <td>7.505553</td>\n",
       "      <td>13.228757</td>\n",
       "      <td>12.727922</td>\n",
       "    </tr>\n",
       "    <tr>\n",
       "      <th>min</th>\n",
       "      <td>15.000000</td>\n",
       "      <td>155.000000</td>\n",
       "      <td>52.000000</td>\n",
       "    </tr>\n",
       "    <tr>\n",
       "      <th>25%</th>\n",
       "      <td>18.500000</td>\n",
       "      <td>157.500000</td>\n",
       "      <td>56.500000</td>\n",
       "    </tr>\n",
       "    <tr>\n",
       "      <th>50%</th>\n",
       "      <td>22.000000</td>\n",
       "      <td>160.000000</td>\n",
       "      <td>61.000000</td>\n",
       "    </tr>\n",
       "    <tr>\n",
       "      <th>75%</th>\n",
       "      <td>26.000000</td>\n",
       "      <td>170.000000</td>\n",
       "      <td>65.500000</td>\n",
       "    </tr>\n",
       "    <tr>\n",
       "      <th>max</th>\n",
       "      <td>30.000000</td>\n",
       "      <td>180.000000</td>\n",
       "      <td>70.000000</td>\n",
       "    </tr>\n",
       "  </tbody>\n",
       "</table>\n",
       "</div>"
      ],
      "text/plain": [
       "             age      height     weight\n",
       "count   3.000000    3.000000   2.000000\n",
       "mean   22.333333  165.000000  61.000000\n",
       "std     7.505553   13.228757  12.727922\n",
       "min    15.000000  155.000000  52.000000\n",
       "25%    18.500000  157.500000  56.500000\n",
       "50%    22.000000  160.000000  61.000000\n",
       "75%    26.000000  170.000000  65.500000\n",
       "max    30.000000  180.000000  70.000000"
      ]
     },
     "execution_count": 18,
     "metadata": {},
     "output_type": "execute_result"
    }
   ],
   "source": [
    "df.describe()"
   ]
  },
  {
   "cell_type": "markdown",
   "metadata": {},
   "source": [
    "We can get a single column as a Series using python's getitem syntax on the DataFrame object."
   ]
  },
  {
   "cell_type": "code",
   "execution_count": 19,
   "metadata": {},
   "outputs": [
    {
     "data": {
      "text/plain": [
       "Alice     180\n",
       "Bob       155\n",
       "Claire    160\n",
       "Name: height, dtype: int64"
      ]
     },
     "execution_count": 19,
     "metadata": {},
     "output_type": "execute_result"
    }
   ],
   "source": [
    "df['height']"
   ]
  },
  {
   "cell_type": "markdown",
   "metadata": {},
   "source": [
    "...or using attribute syntax."
   ]
  },
  {
   "cell_type": "code",
   "execution_count": 20,
   "metadata": {},
   "outputs": [
    {
     "data": {
      "text/plain": [
       "Alice     180\n",
       "Bob       155\n",
       "Claire    160\n",
       "Name: height, dtype: int64"
      ]
     },
     "execution_count": 20,
     "metadata": {},
     "output_type": "execute_result"
    }
   ],
   "source": [
    "df.height"
   ]
  },
  {
   "cell_type": "markdown",
   "metadata": {},
   "source": [
    "Indexing works very similar to series"
   ]
  },
  {
   "cell_type": "code",
   "execution_count": 21,
   "metadata": {},
   "outputs": [
    {
     "data": {
      "text/plain": [
       "age        15.0\n",
       "height    155.0\n",
       "weight     52.0\n",
       "Name: Bob, dtype: float64"
      ]
     },
     "execution_count": 21,
     "metadata": {},
     "output_type": "execute_result"
    }
   ],
   "source": [
    "df.loc['Bob']"
   ]
  },
  {
   "cell_type": "code",
   "execution_count": 22,
   "metadata": {},
   "outputs": [
    {
     "data": {
      "text/plain": [
       "age        22.0\n",
       "height    160.0\n",
       "weight      NaN\n",
       "Name: Claire, dtype: float64"
      ]
     },
     "execution_count": 22,
     "metadata": {},
     "output_type": "execute_result"
    }
   ],
   "source": [
    "df.iloc[2]"
   ]
  },
  {
   "cell_type": "markdown",
   "metadata": {},
   "source": [
    "But we can also specify the column we want to access"
   ]
  },
  {
   "cell_type": "code",
   "execution_count": 23,
   "metadata": {},
   "outputs": [
    {
     "data": {
      "text/plain": [
       "22"
      ]
     },
     "execution_count": 23,
     "metadata": {},
     "output_type": "execute_result"
    }
   ],
   "source": [
    "df.loc['Claire', 'age']"
   ]
  },
  {
   "cell_type": "code",
   "execution_count": 24,
   "metadata": {},
   "outputs": [
    {
     "data": {
      "text/plain": [
       "Alice    30\n",
       "Bob      15\n",
       "Name: age, dtype: int64"
      ]
     },
     "execution_count": 24,
     "metadata": {},
     "output_type": "execute_result"
    }
   ],
   "source": [
    "df.iloc[:2, 0]"
   ]
  },
  {
   "cell_type": "markdown",
   "metadata": {},
   "source": [
    "We can make a calculation using columns from the DataFrame, it will keep the same index. We can easily add as another column to the DataFrame:"
   ]
  },
  {
   "cell_type": "code",
   "execution_count": 25,
   "metadata": {},
   "outputs": [
    {
     "data": {
      "text/html": [
       "<div>\n",
       "<style scoped>\n",
       "    .dataframe tbody tr th:only-of-type {\n",
       "        vertical-align: middle;\n",
       "    }\n",
       "\n",
       "    .dataframe tbody tr th {\n",
       "        vertical-align: top;\n",
       "    }\n",
       "\n",
       "    .dataframe thead th {\n",
       "        text-align: right;\n",
       "    }\n",
       "</style>\n",
       "<table border=\"1\" class=\"dataframe\">\n",
       "  <thead>\n",
       "    <tr style=\"text-align: right;\">\n",
       "      <th></th>\n",
       "      <th>age</th>\n",
       "      <th>height</th>\n",
       "      <th>weight</th>\n",
       "      <th>BMI</th>\n",
       "    </tr>\n",
       "  </thead>\n",
       "  <tbody>\n",
       "    <tr>\n",
       "      <th>Alice</th>\n",
       "      <td>30</td>\n",
       "      <td>180</td>\n",
       "      <td>70.0</td>\n",
       "      <td>21.604938</td>\n",
       "    </tr>\n",
       "    <tr>\n",
       "      <th>Bob</th>\n",
       "      <td>15</td>\n",
       "      <td>155</td>\n",
       "      <td>52.0</td>\n",
       "      <td>21.644121</td>\n",
       "    </tr>\n",
       "    <tr>\n",
       "      <th>Claire</th>\n",
       "      <td>22</td>\n",
       "      <td>160</td>\n",
       "      <td>NaN</td>\n",
       "      <td>NaN</td>\n",
       "    </tr>\n",
       "  </tbody>\n",
       "</table>\n",
       "</div>"
      ],
      "text/plain": [
       "        age  height  weight        BMI\n",
       "Alice    30     180    70.0  21.604938\n",
       "Bob      15     155    52.0  21.644121\n",
       "Claire   22     160     NaN        NaN"
      ]
     },
     "execution_count": 25,
     "metadata": {},
     "output_type": "execute_result"
    }
   ],
   "source": [
    "df['BMI'] = df.weight / (df.height/100)**2\n",
    "df"
   ]
  },
  {
   "cell_type": "markdown",
   "metadata": {},
   "source": [
    "We can also index using a boolean series. This is very useful"
   ]
  },
  {
   "cell_type": "code",
   "execution_count": 26,
   "metadata": {},
   "outputs": [
    {
     "data": {
      "text/html": [
       "<div>\n",
       "<style scoped>\n",
       "    .dataframe tbody tr th:only-of-type {\n",
       "        vertical-align: middle;\n",
       "    }\n",
       "\n",
       "    .dataframe tbody tr th {\n",
       "        vertical-align: top;\n",
       "    }\n",
       "\n",
       "    .dataframe thead th {\n",
       "        text-align: right;\n",
       "    }\n",
       "</style>\n",
       "<table border=\"1\" class=\"dataframe\">\n",
       "  <thead>\n",
       "    <tr style=\"text-align: right;\">\n",
       "      <th></th>\n",
       "      <th>age</th>\n",
       "      <th>height</th>\n",
       "      <th>weight</th>\n",
       "      <th>BMI</th>\n",
       "      <th>is_adult</th>\n",
       "    </tr>\n",
       "  </thead>\n",
       "  <tbody>\n",
       "    <tr>\n",
       "      <th>Alice</th>\n",
       "      <td>30</td>\n",
       "      <td>180</td>\n",
       "      <td>70.0</td>\n",
       "      <td>21.604938</td>\n",
       "      <td>True</td>\n",
       "    </tr>\n",
       "    <tr>\n",
       "      <th>Bob</th>\n",
       "      <td>15</td>\n",
       "      <td>155</td>\n",
       "      <td>52.0</td>\n",
       "      <td>21.644121</td>\n",
       "      <td>False</td>\n",
       "    </tr>\n",
       "    <tr>\n",
       "      <th>Claire</th>\n",
       "      <td>22</td>\n",
       "      <td>160</td>\n",
       "      <td>NaN</td>\n",
       "      <td>NaN</td>\n",
       "      <td>True</td>\n",
       "    </tr>\n",
       "  </tbody>\n",
       "</table>\n",
       "</div>"
      ],
      "text/plain": [
       "        age  height  weight        BMI  is_adult\n",
       "Alice    30     180    70.0  21.604938      True\n",
       "Bob      15     155    52.0  21.644121     False\n",
       "Claire   22     160     NaN        NaN      True"
      ]
     },
     "execution_count": 26,
     "metadata": {},
     "output_type": "execute_result"
    }
   ],
   "source": [
    "df['is_adult'] = df.age > 18\n",
    "df"
   ]
  },
  {
   "cell_type": "markdown",
   "metadata": {},
   "source": [
    "## Plotting\n",
    "\n",
    "DataFrames have all kinds of [useful plotting](https://pandas.pydata.org/pandas-docs/stable/visualization.html) built in."
   ]
  },
  {
   "cell_type": "code",
   "execution_count": 27,
   "metadata": {},
   "outputs": [
    {
     "data": {
      "text/plain": [
       "<AxesSubplot:xlabel='age', ylabel='height'>"
      ]
     },
     "execution_count": 27,
     "metadata": {},
     "output_type": "execute_result"
    },
    {
     "data": {
      "image/png": "[encoded data removed]",
      "text/plain": [
       "<Figure size 432x288 with 1 Axes>"
      ]
     },
     "metadata": {
      "needs_background": "light"
     },
     "output_type": "display_data"
    }
   ],
   "source": [
    "df.plot(kind='scatter', x='age', y='height', grid=True, s=100)"
   ]
  },
  {
   "cell_type": "code",
   "execution_count": 28,
   "metadata": {},
   "outputs": [
    {
     "data": {
      "text/plain": [
       "<AxesSubplot:>"
      ]
     },
     "execution_count": 28,
     "metadata": {},
     "output_type": "execute_result"
    },
    {
     "data": {
      "image/png": "[encoded data removed]",
      "text/plain": [
       "<Figure size 432x288 with 1 Axes>"
      ]
     },
     "metadata": {
      "needs_background": "light"
     },
     "output_type": "display_data"
    }
   ],
   "source": [
    "df.plot(kind='bar')"
   ]
  },
  {
   "cell_type": "markdown",
   "metadata": {},
   "source": [
    "## Time Indexes\n",
    "\n",
    "Indexes are very powerful. They are a big part of why Pandas is so useful. There are different indices for different types of data. Time Indexes are especially great!"
   ]
  },
  {
   "cell_type": "code",
   "execution_count": 29,
   "metadata": {},
   "outputs": [
    {
     "data": {
      "text/plain": [
       "<AxesSubplot:>"
      ]
     },
     "execution_count": 29,
     "metadata": {},
     "output_type": "execute_result"
    },
    {
     "data": {
      "image/png": "[encoded data removed]",
      "text/plain": [
       "<Figure size 432x288 with 1 Axes>"
      ]
     },
     "metadata": {
      "needs_background": "light"
     },
     "output_type": "display_data"
    }
   ],
   "source": [
    "two_years = pd.date_range(start='2014-01-01', end='2016-01-01', freq='D')\n",
    "timeseries = pd.Series(np.sin(2 *np.pi *two_years.dayofyear / 365),\n",
    "                       index=two_years)\n",
    "timeseries.plot()"
   ]
  },
  {
   "cell_type": "markdown",
   "metadata": {},
   "source": [
    "We can use python's slicing notation inside `.loc` to select a date range."
   ]
  },
  {
   "cell_type": "code",
   "execution_count": 30,
   "metadata": {},
   "outputs": [
    {
     "data": {
      "text/plain": [
       "<AxesSubplot:>"
      ]
     },
     "execution_count": 30,
     "metadata": {},
     "output_type": "execute_result"
    },
    {
     "data": {
      "image/png": "[encoded data removed]",
      "text/plain": [
       "<Figure size 432x288 with 1 Axes>"
      ]
     },
     "metadata": {
      "needs_background": "light"
     },
     "output_type": "display_data"
    }
   ],
   "source": [
    "timeseries.loc['2015-01-01':'2015-07-01'].plot()"
   ]
  },
  {
   "cell_type": "markdown",
   "metadata": {},
   "source": [
    "The TimeIndex object has lots of useful attributes"
   ]
  },
  {
   "cell_type": "code",
   "execution_count": 31,
   "metadata": {},
   "outputs": [
    {
     "data": {
      "text/plain": [
       "Int64Index([ 1,  1,  1,  1,  1,  1,  1,  1,  1,  1,\n",
       "            ...\n",
       "            12, 12, 12, 12, 12, 12, 12, 12, 12,  1],\n",
       "           dtype='int64', length=731)"
      ]
     },
     "execution_count": 31,
     "metadata": {},
     "output_type": "execute_result"
    }
   ],
   "source": [
    "timeseries.index.month"
   ]
  },
  {
   "cell_type": "code",
   "execution_count": 32,
   "metadata": {},
   "outputs": [
    {
     "data": {
      "text/plain": [
       "Int64Index([ 1,  2,  3,  4,  5,  6,  7,  8,  9, 10,\n",
       "            ...\n",
       "            23, 24, 25, 26, 27, 28, 29, 30, 31,  1],\n",
       "           dtype='int64', length=731)"
      ]
     },
     "execution_count": 32,
     "metadata": {},
     "output_type": "execute_result"
    }
   ],
   "source": [
    "timeseries.index.day"
   ]
  },
  {
   "cell_type": "markdown",
   "metadata": {},
   "source": [
    "## Reading Data Files: Weather Station Data\n",
    "\n",
    "In this example, we will use NOAA weather station data from https://www.ncdc.noaa.gov/data-access/land-based-station-data.\n",
    "\n",
    "The details of files we are going to read are described in this [README file](ftp://ftp.ncdc.noaa.gov/pub/data/uscrn/products/daily01/README.txt)."
   ]
  },
  {
   "cell_type": "code",
   "execution_count": 33,
   "metadata": {},
   "outputs": [
    {
     "name": "stdout",
     "output_type": "stream",
     "text": [
      "zsh:1: command not found: wget\n",
      "zsh:1: command not found: wget\n"
     ]
    }
   ],
   "source": [
    "# some shell code to download some data\n",
    "# if this does not work, you can manually download the files by copying the addresses\n",
    "# (Windows) in your Windows Explorer address bar\n",
    "# (Mac) in the Finder 'Go/Connect to Server' Menu\n",
    "! wget ftp://ftp.ncdc.noaa.gov/pub/data/uscrn/products/daily01/HEADERS.txt\n",
    "! wget ftp://ftp.ncdc.noaa.gov/pub/data/uscrn/products/daily01/2017/CRND0103-2017-NY_Millbrook_3_W.txt\n",
    "! head -2 data/HEADERS.txt | tail -1 > data/data.txt\n",
    "! cat data/CRND0103-2017-NY_Millbrook_3_W.txt >> data/data.txt"
   ]
  },
  {
   "cell_type": "markdown",
   "metadata": {},
   "source": [
    "We now have a text file on our hard drive called `data.txt`. Examine it.\n",
    "\n",
    "To read it into pandas, we will use the [read_csv](https://pandas.pydata.org/pandas-docs/stable/generated/pandas.read_csv.html) function. This function is incredibly complex and powerful. You can use it to extract data from almost any text file. However, you need to understand how to use its various options.\n",
    "\n",
    "With no options, this is what we get."
   ]
  },
  {
   "cell_type": "code",
   "execution_count": 34,
   "metadata": {},
   "outputs": [
    {
     "data": {
      "text/html": [
       "<div>\n",
       "<style scoped>\n",
       "    .dataframe tbody tr th:only-of-type {\n",
       "        vertical-align: middle;\n",
       "    }\n",
       "\n",
       "    .dataframe tbody tr th {\n",
       "        vertical-align: top;\n",
       "    }\n",
       "\n",
       "    .dataframe thead th {\n",
       "        text-align: right;\n",
       "    }\n",
       "</style>\n",
       "<table border=\"1\" class=\"dataframe\">\n",
       "  <thead>\n",
       "    <tr style=\"text-align: right;\">\n",
       "      <th></th>\n",
       "      <th>WBANNO LST_DATE CRX_VN LONGITUDE LATITUDE T_DAILY_MAX T_DAILY_MIN T_DAILY_MEAN T_DAILY_AVG P_DAILY_CALC SOLARAD_DAILY SUR_TEMP_DAILY_TYPE SUR_TEMP_DAILY_MAX SUR_TEMP_DAILY_MIN SUR_TEMP_DAILY_AVG RH_DAILY_MAX RH_DAILY_MIN RH_DAILY_AVG SOIL_MOISTURE_5_DAILY SOIL_MOISTURE_10_DAILY SOIL_MOISTURE_20_DAILY SOIL_MOISTURE_50_DAILY SOIL_MOISTURE_100_DAILY SOIL_TEMP_5_DAILY SOIL_TEMP_10_DAILY SOIL_TEMP_20_DAILY SOIL_TEMP_50_DAILY SOIL_TEMP_100_DAILY</th>\n",
       "    </tr>\n",
       "  </thead>\n",
       "  <tbody>\n",
       "    <tr>\n",
       "      <th>0</th>\n",
       "      <td>64756 20170101  2.422  -73.74   41.79     6.6 ...</td>\n",
       "    </tr>\n",
       "    <tr>\n",
       "      <th>1</th>\n",
       "      <td>64756 20170102  2.422  -73.74   41.79     4.0 ...</td>\n",
       "    </tr>\n",
       "    <tr>\n",
       "      <th>2</th>\n",
       "      <td>64756 20170103  2.422  -73.74   41.79     4.9 ...</td>\n",
       "    </tr>\n",
       "    <tr>\n",
       "      <th>3</th>\n",
       "      <td>64756 20170104  2.422  -73.74   41.79     8.7 ...</td>\n",
       "    </tr>\n",
       "    <tr>\n",
       "      <th>4</th>\n",
       "      <td>64756 20170105  2.422  -73.74   41.79    -0.5 ...</td>\n",
       "    </tr>\n",
       "  </tbody>\n",
       "</table>\n",
       "</div>"
      ],
      "text/plain": [
       "  WBANNO LST_DATE CRX_VN LONGITUDE LATITUDE T_DAILY_MAX T_DAILY_MIN T_DAILY_MEAN T_DAILY_AVG P_DAILY_CALC SOLARAD_DAILY SUR_TEMP_DAILY_TYPE SUR_TEMP_DAILY_MAX SUR_TEMP_DAILY_MIN SUR_TEMP_DAILY_AVG RH_DAILY_MAX RH_DAILY_MIN RH_DAILY_AVG SOIL_MOISTURE_5_DAILY SOIL_MOISTURE_10_DAILY SOIL_MOISTURE_20_DAILY SOIL_MOISTURE_50_DAILY SOIL_MOISTURE_100_DAILY SOIL_TEMP_5_DAILY SOIL_TEMP_10_DAILY SOIL_TEMP_20_DAILY SOIL_TEMP_50_DAILY SOIL_TEMP_100_DAILY \n",
       "0  64756 20170101  2.422  -73.74   41.79     6.6 ...                                                                                                                                                                                                                                                                                                                                                                                                          \n",
       "1  64756 20170102  2.422  -73.74   41.79     4.0 ...                                                                                                                                                                                                                                                                                                                                                                                                          \n",
       "2  64756 20170103  2.422  -73.74   41.79     4.9 ...                                                                                                                                                                                                                                                                                                                                                                                                          \n",
       "3  64756 20170104  2.422  -73.74   41.79     8.7 ...                                                                                                                                                                                                                                                                                                                                                                                                          \n",
       "4  64756 20170105  2.422  -73.74   41.79    -0.5 ...                                                                                                                                                                                                                                                                                                                                                                                                          "
      ]
     },
     "execution_count": 34,
     "metadata": {},
     "output_type": "execute_result"
    }
   ],
   "source": [
    "df = pd.read_csv('data/data.txt')\n",
    "df.head()"
   ]
  },
  {
   "cell_type": "markdown",
   "metadata": {},
   "source": [
    "Pandas failed to identify the different columns. This is because it was expecting standard CSV (comma-separated values) file. In our file, instead, the values are separated by whitespace. And not a single whilespace--the amount of whitespace between values varies. We can tell pandas this using the `sep` keyword."
   ]
  },
  {
   "cell_type": "code",
   "execution_count": 35,
   "metadata": {},
   "outputs": [
    {
     "data": {
      "text/html": [
       "<div>\n",
       "<style scoped>\n",
       "    .dataframe tbody tr th:only-of-type {\n",
       "        vertical-align: middle;\n",
       "    }\n",
       "\n",
       "    .dataframe tbody tr th {\n",
       "        vertical-align: top;\n",
       "    }\n",
       "\n",
       "    .dataframe thead th {\n",
       "        text-align: right;\n",
       "    }\n",
       "</style>\n",
       "<table border=\"1\" class=\"dataframe\">\n",
       "  <thead>\n",
       "    <tr style=\"text-align: right;\">\n",
       "      <th></th>\n",
       "      <th>WBANNO</th>\n",
       "      <th>LST_DATE</th>\n",
       "      <th>CRX_VN</th>\n",
       "      <th>LONGITUDE</th>\n",
       "      <th>LATITUDE</th>\n",
       "      <th>T_DAILY_MAX</th>\n",
       "      <th>T_DAILY_MIN</th>\n",
       "      <th>T_DAILY_MEAN</th>\n",
       "      <th>T_DAILY_AVG</th>\n",
       "      <th>P_DAILY_CALC</th>\n",
       "      <th>...</th>\n",
       "      <th>SOIL_MOISTURE_5_DAILY</th>\n",
       "      <th>SOIL_MOISTURE_10_DAILY</th>\n",
       "      <th>SOIL_MOISTURE_20_DAILY</th>\n",
       "      <th>SOIL_MOISTURE_50_DAILY</th>\n",
       "      <th>SOIL_MOISTURE_100_DAILY</th>\n",
       "      <th>SOIL_TEMP_5_DAILY</th>\n",
       "      <th>SOIL_TEMP_10_DAILY</th>\n",
       "      <th>SOIL_TEMP_20_DAILY</th>\n",
       "      <th>SOIL_TEMP_50_DAILY</th>\n",
       "      <th>SOIL_TEMP_100_DAILY</th>\n",
       "    </tr>\n",
       "  </thead>\n",
       "  <tbody>\n",
       "    <tr>\n",
       "      <th>0</th>\n",
       "      <td>64756</td>\n",
       "      <td>20170101</td>\n",
       "      <td>2.422</td>\n",
       "      <td>-73.74</td>\n",
       "      <td>41.79</td>\n",
       "      <td>6.6</td>\n",
       "      <td>-5.4</td>\n",
       "      <td>0.6</td>\n",
       "      <td>2.2</td>\n",
       "      <td>0.0</td>\n",
       "      <td>...</td>\n",
       "      <td>-99.0</td>\n",
       "      <td>-99.0</td>\n",
       "      <td>0.207</td>\n",
       "      <td>0.152</td>\n",
       "      <td>0.175</td>\n",
       "      <td>-0.1</td>\n",
       "      <td>0.0</td>\n",
       "      <td>0.6</td>\n",
       "      <td>1.5</td>\n",
       "      <td>3.4</td>\n",
       "    </tr>\n",
       "    <tr>\n",
       "      <th>1</th>\n",
       "      <td>64756</td>\n",
       "      <td>20170102</td>\n",
       "      <td>2.422</td>\n",
       "      <td>-73.74</td>\n",
       "      <td>41.79</td>\n",
       "      <td>4.0</td>\n",
       "      <td>-6.8</td>\n",
       "      <td>-1.4</td>\n",
       "      <td>-1.2</td>\n",
       "      <td>0.0</td>\n",
       "      <td>...</td>\n",
       "      <td>-99.0</td>\n",
       "      <td>-99.0</td>\n",
       "      <td>0.205</td>\n",
       "      <td>0.151</td>\n",
       "      <td>0.173</td>\n",
       "      <td>-0.2</td>\n",
       "      <td>0.0</td>\n",
       "      <td>0.6</td>\n",
       "      <td>1.5</td>\n",
       "      <td>3.3</td>\n",
       "    </tr>\n",
       "    <tr>\n",
       "      <th>2</th>\n",
       "      <td>64756</td>\n",
       "      <td>20170103</td>\n",
       "      <td>2.422</td>\n",
       "      <td>-73.74</td>\n",
       "      <td>41.79</td>\n",
       "      <td>4.9</td>\n",
       "      <td>0.7</td>\n",
       "      <td>2.8</td>\n",
       "      <td>2.7</td>\n",
       "      <td>13.1</td>\n",
       "      <td>...</td>\n",
       "      <td>-99.0</td>\n",
       "      <td>-99.0</td>\n",
       "      <td>0.205</td>\n",
       "      <td>0.150</td>\n",
       "      <td>0.173</td>\n",
       "      <td>-0.1</td>\n",
       "      <td>0.0</td>\n",
       "      <td>0.5</td>\n",
       "      <td>1.5</td>\n",
       "      <td>3.3</td>\n",
       "    </tr>\n",
       "    <tr>\n",
       "      <th>3</th>\n",
       "      <td>64756</td>\n",
       "      <td>20170104</td>\n",
       "      <td>2.422</td>\n",
       "      <td>-73.74</td>\n",
       "      <td>41.79</td>\n",
       "      <td>8.7</td>\n",
       "      <td>-1.6</td>\n",
       "      <td>3.6</td>\n",
       "      <td>3.5</td>\n",
       "      <td>1.3</td>\n",
       "      <td>...</td>\n",
       "      <td>-99.0</td>\n",
       "      <td>-99.0</td>\n",
       "      <td>0.215</td>\n",
       "      <td>0.153</td>\n",
       "      <td>0.174</td>\n",
       "      <td>-0.1</td>\n",
       "      <td>0.0</td>\n",
       "      <td>0.5</td>\n",
       "      <td>1.5</td>\n",
       "      <td>3.2</td>\n",
       "    </tr>\n",
       "    <tr>\n",
       "      <th>4</th>\n",
       "      <td>64756</td>\n",
       "      <td>20170105</td>\n",
       "      <td>2.422</td>\n",
       "      <td>-73.74</td>\n",
       "      <td>41.79</td>\n",
       "      <td>-0.5</td>\n",
       "      <td>-4.6</td>\n",
       "      <td>-2.5</td>\n",
       "      <td>-2.8</td>\n",
       "      <td>0.0</td>\n",
       "      <td>...</td>\n",
       "      <td>-99.0</td>\n",
       "      <td>-99.0</td>\n",
       "      <td>0.215</td>\n",
       "      <td>0.154</td>\n",
       "      <td>0.177</td>\n",
       "      <td>-0.1</td>\n",
       "      <td>0.0</td>\n",
       "      <td>0.5</td>\n",
       "      <td>1.4</td>\n",
       "      <td>3.1</td>\n",
       "    </tr>\n",
       "  </tbody>\n",
       "</table>\n",
       "<p>5 rows × 28 columns</p>\n",
       "</div>"
      ],
      "text/plain": [
       "   WBANNO  LST_DATE  CRX_VN  LONGITUDE  LATITUDE  T_DAILY_MAX  T_DAILY_MIN  \\\n",
       "0   64756  20170101   2.422     -73.74     41.79          6.6         -5.4   \n",
       "1   64756  20170102   2.422     -73.74     41.79          4.0         -6.8   \n",
       "2   64756  20170103   2.422     -73.74     41.79          4.9          0.7   \n",
       "3   64756  20170104   2.422     -73.74     41.79          8.7         -1.6   \n",
       "4   64756  20170105   2.422     -73.74     41.79         -0.5         -4.6   \n",
       "\n",
       "   T_DAILY_MEAN  T_DAILY_AVG  P_DAILY_CALC  ...  SOIL_MOISTURE_5_DAILY  \\\n",
       "0           0.6          2.2           0.0  ...                  -99.0   \n",
       "1          -1.4         -1.2           0.0  ...                  -99.0   \n",
       "2           2.8          2.7          13.1  ...                  -99.0   \n",
       "3           3.6          3.5           1.3  ...                  -99.0   \n",
       "4          -2.5         -2.8           0.0  ...                  -99.0   \n",
       "\n",
       "  SOIL_MOISTURE_10_DAILY  SOIL_MOISTURE_20_DAILY  SOIL_MOISTURE_50_DAILY  \\\n",
       "0                  -99.0                   0.207                   0.152   \n",
       "1                  -99.0                   0.205                   0.151   \n",
       "2                  -99.0                   0.205                   0.150   \n",
       "3                  -99.0                   0.215                   0.153   \n",
       "4                  -99.0                   0.215                   0.154   \n",
       "\n",
       "   SOIL_MOISTURE_100_DAILY  SOIL_TEMP_5_DAILY  SOIL_TEMP_10_DAILY  \\\n",
       "0                    0.175               -0.1                 0.0   \n",
       "1                    0.173               -0.2                 0.0   \n",
       "2                    0.173               -0.1                 0.0   \n",
       "3                    0.174               -0.1                 0.0   \n",
       "4                    0.177               -0.1                 0.0   \n",
       "\n",
       "   SOIL_TEMP_20_DAILY  SOIL_TEMP_50_DAILY  SOIL_TEMP_100_DAILY  \n",
       "0                 0.6                 1.5                  3.4  \n",
       "1                 0.6                 1.5                  3.3  \n",
       "2                 0.5                 1.5                  3.3  \n",
       "3                 0.5                 1.5                  3.2  \n",
       "4                 0.5                 1.4                  3.1  \n",
       "\n",
       "[5 rows x 28 columns]"
      ]
     },
     "execution_count": 35,
     "metadata": {},
     "output_type": "execute_result"
    }
   ],
   "source": [
    "df = pd.read_csv('data/data.txt', sep='\\s+')\n",
    "df.head()"
   ]
  },
  {
   "cell_type": "markdown",
   "metadata": {},
   "source": [
    "Great! It worked. \n",
    "\n",
    "If we look closely, we will see there are lots of -99 and -9999 values in the file. The [README file](ftp://ftp.ncdc.noaa.gov/pub/data/uscrn/products/daily01/README.txt) tells us that these are values used to represent missing data. Let's tell this to pandas."
   ]
  },
  {
   "cell_type": "code",
   "execution_count": 36,
   "metadata": {},
   "outputs": [
    {
     "data": {
      "text/html": [
       "<div>\n",
       "<style scoped>\n",
       "    .dataframe tbody tr th:only-of-type {\n",
       "        vertical-align: middle;\n",
       "    }\n",
       "\n",
       "    .dataframe tbody tr th {\n",
       "        vertical-align: top;\n",
       "    }\n",
       "\n",
       "    .dataframe thead th {\n",
       "        text-align: right;\n",
       "    }\n",
       "</style>\n",
       "<table border=\"1\" class=\"dataframe\">\n",
       "  <thead>\n",
       "    <tr style=\"text-align: right;\">\n",
       "      <th></th>\n",
       "      <th>WBANNO</th>\n",
       "      <th>LST_DATE</th>\n",
       "      <th>CRX_VN</th>\n",
       "      <th>LONGITUDE</th>\n",
       "      <th>LATITUDE</th>\n",
       "      <th>T_DAILY_MAX</th>\n",
       "      <th>T_DAILY_MIN</th>\n",
       "      <th>T_DAILY_MEAN</th>\n",
       "      <th>T_DAILY_AVG</th>\n",
       "      <th>P_DAILY_CALC</th>\n",
       "      <th>...</th>\n",
       "      <th>SOIL_MOISTURE_5_DAILY</th>\n",
       "      <th>SOIL_MOISTURE_10_DAILY</th>\n",
       "      <th>SOIL_MOISTURE_20_DAILY</th>\n",
       "      <th>SOIL_MOISTURE_50_DAILY</th>\n",
       "      <th>SOIL_MOISTURE_100_DAILY</th>\n",
       "      <th>SOIL_TEMP_5_DAILY</th>\n",
       "      <th>SOIL_TEMP_10_DAILY</th>\n",
       "      <th>SOIL_TEMP_20_DAILY</th>\n",
       "      <th>SOIL_TEMP_50_DAILY</th>\n",
       "      <th>SOIL_TEMP_100_DAILY</th>\n",
       "    </tr>\n",
       "  </thead>\n",
       "  <tbody>\n",
       "    <tr>\n",
       "      <th>0</th>\n",
       "      <td>64756</td>\n",
       "      <td>20170101</td>\n",
       "      <td>2.422</td>\n",
       "      <td>-73.74</td>\n",
       "      <td>41.79</td>\n",
       "      <td>6.6</td>\n",
       "      <td>-5.4</td>\n",
       "      <td>0.6</td>\n",
       "      <td>2.2</td>\n",
       "      <td>0.0</td>\n",
       "      <td>...</td>\n",
       "      <td>NaN</td>\n",
       "      <td>NaN</td>\n",
       "      <td>0.207</td>\n",
       "      <td>0.152</td>\n",
       "      <td>0.175</td>\n",
       "      <td>-0.1</td>\n",
       "      <td>0.0</td>\n",
       "      <td>0.6</td>\n",
       "      <td>1.5</td>\n",
       "      <td>3.4</td>\n",
       "    </tr>\n",
       "    <tr>\n",
       "      <th>1</th>\n",
       "      <td>64756</td>\n",
       "      <td>20170102</td>\n",
       "      <td>2.422</td>\n",
       "      <td>-73.74</td>\n",
       "      <td>41.79</td>\n",
       "      <td>4.0</td>\n",
       "      <td>-6.8</td>\n",
       "      <td>-1.4</td>\n",
       "      <td>-1.2</td>\n",
       "      <td>0.0</td>\n",
       "      <td>...</td>\n",
       "      <td>NaN</td>\n",
       "      <td>NaN</td>\n",
       "      <td>0.205</td>\n",
       "      <td>0.151</td>\n",
       "      <td>0.173</td>\n",
       "      <td>-0.2</td>\n",
       "      <td>0.0</td>\n",
       "      <td>0.6</td>\n",
       "      <td>1.5</td>\n",
       "      <td>3.3</td>\n",
       "    </tr>\n",
       "    <tr>\n",
       "      <th>2</th>\n",
       "      <td>64756</td>\n",
       "      <td>20170103</td>\n",
       "      <td>2.422</td>\n",
       "      <td>-73.74</td>\n",
       "      <td>41.79</td>\n",
       "      <td>4.9</td>\n",
       "      <td>0.7</td>\n",
       "      <td>2.8</td>\n",
       "      <td>2.7</td>\n",
       "      <td>13.1</td>\n",
       "      <td>...</td>\n",
       "      <td>NaN</td>\n",
       "      <td>NaN</td>\n",
       "      <td>0.205</td>\n",
       "      <td>0.150</td>\n",
       "      <td>0.173</td>\n",
       "      <td>-0.1</td>\n",
       "      <td>0.0</td>\n",
       "      <td>0.5</td>\n",
       "      <td>1.5</td>\n",
       "      <td>3.3</td>\n",
       "    </tr>\n",
       "    <tr>\n",
       "      <th>3</th>\n",
       "      <td>64756</td>\n",
       "      <td>20170104</td>\n",
       "      <td>2.422</td>\n",
       "      <td>-73.74</td>\n",
       "      <td>41.79</td>\n",
       "      <td>8.7</td>\n",
       "      <td>-1.6</td>\n",
       "      <td>3.6</td>\n",
       "      <td>3.5</td>\n",
       "      <td>1.3</td>\n",
       "      <td>...</td>\n",
       "      <td>NaN</td>\n",
       "      <td>NaN</td>\n",
       "      <td>0.215</td>\n",
       "      <td>0.153</td>\n",
       "      <td>0.174</td>\n",
       "      <td>-0.1</td>\n",
       "      <td>0.0</td>\n",
       "      <td>0.5</td>\n",
       "      <td>1.5</td>\n",
       "      <td>3.2</td>\n",
       "    </tr>\n",
       "    <tr>\n",
       "      <th>4</th>\n",
       "      <td>64756</td>\n",
       "      <td>20170105</td>\n",
       "      <td>2.422</td>\n",
       "      <td>-73.74</td>\n",
       "      <td>41.79</td>\n",
       "      <td>-0.5</td>\n",
       "      <td>-4.6</td>\n",
       "      <td>-2.5</td>\n",
       "      <td>-2.8</td>\n",
       "      <td>0.0</td>\n",
       "      <td>...</td>\n",
       "      <td>NaN</td>\n",
       "      <td>NaN</td>\n",
       "      <td>0.215</td>\n",
       "      <td>0.154</td>\n",
       "      <td>0.177</td>\n",
       "      <td>-0.1</td>\n",
       "      <td>0.0</td>\n",
       "      <td>0.5</td>\n",
       "      <td>1.4</td>\n",
       "      <td>3.1</td>\n",
       "    </tr>\n",
       "  </tbody>\n",
       "</table>\n",
       "<p>5 rows × 28 columns</p>\n",
       "</div>"
      ],
      "text/plain": [
       "   WBANNO  LST_DATE  CRX_VN  LONGITUDE  LATITUDE  T_DAILY_MAX  T_DAILY_MIN  \\\n",
       "0   64756  20170101   2.422     -73.74     41.79          6.6         -5.4   \n",
       "1   64756  20170102   2.422     -73.74     41.79          4.0         -6.8   \n",
       "2   64756  20170103   2.422     -73.74     41.79          4.9          0.7   \n",
       "3   64756  20170104   2.422     -73.74     41.79          8.7         -1.6   \n",
       "4   64756  20170105   2.422     -73.74     41.79         -0.5         -4.6   \n",
       "\n",
       "   T_DAILY_MEAN  T_DAILY_AVG  P_DAILY_CALC  ...  SOIL_MOISTURE_5_DAILY  \\\n",
       "0           0.6          2.2           0.0  ...                    NaN   \n",
       "1          -1.4         -1.2           0.0  ...                    NaN   \n",
       "2           2.8          2.7          13.1  ...                    NaN   \n",
       "3           3.6          3.5           1.3  ...                    NaN   \n",
       "4          -2.5         -2.8           0.0  ...                    NaN   \n",
       "\n",
       "  SOIL_MOISTURE_10_DAILY  SOIL_MOISTURE_20_DAILY  SOIL_MOISTURE_50_DAILY  \\\n",
       "0                    NaN                   0.207                   0.152   \n",
       "1                    NaN                   0.205                   0.151   \n",
       "2                    NaN                   0.205                   0.150   \n",
       "3                    NaN                   0.215                   0.153   \n",
       "4                    NaN                   0.215                   0.154   \n",
       "\n",
       "   SOIL_MOISTURE_100_DAILY  SOIL_TEMP_5_DAILY  SOIL_TEMP_10_DAILY  \\\n",
       "0                    0.175               -0.1                 0.0   \n",
       "1                    0.173               -0.2                 0.0   \n",
       "2                    0.173               -0.1                 0.0   \n",
       "3                    0.174               -0.1                 0.0   \n",
       "4                    0.177               -0.1                 0.0   \n",
       "\n",
       "   SOIL_TEMP_20_DAILY  SOIL_TEMP_50_DAILY  SOIL_TEMP_100_DAILY  \n",
       "0                 0.6                 1.5                  3.4  \n",
       "1                 0.6                 1.5                  3.3  \n",
       "2                 0.5                 1.5                  3.3  \n",
       "3                 0.5                 1.5                  3.2  \n",
       "4                 0.5                 1.4                  3.1  \n",
       "\n",
       "[5 rows x 28 columns]"
      ]
     },
     "execution_count": 36,
     "metadata": {},
     "output_type": "execute_result"
    }
   ],
   "source": [
    "df = pd.read_csv('data/data.txt', sep='\\s+', na_values=[-9999.0, -99.0])\n",
    "df.head()"
   ]
  },
  {
   "cell_type": "markdown",
   "metadata": {},
   "source": [
    "Great. The missing data is now represented by `NaN`.\n",
    "\n",
    "What data types did pandas infer?"
   ]
  },
  {
   "cell_type": "code",
   "execution_count": 37,
   "metadata": {},
   "outputs": [
    {
     "name": "stdout",
     "output_type": "stream",
     "text": [
      "<class 'pandas.core.frame.DataFrame'>\n",
      "RangeIndex: 365 entries, 0 to 364\n",
      "Data columns (total 28 columns):\n",
      " #   Column                   Non-Null Count  Dtype  \n",
      "---  ------                   --------------  -----  \n",
      " 0   WBANNO                   365 non-null    int64  \n",
      " 1   LST_DATE                 365 non-null    int64  \n",
      " 2   CRX_VN                   365 non-null    float64\n",
      " 3   LONGITUDE                365 non-null    float64\n",
      " 4   LATITUDE                 365 non-null    float64\n",
      " 5   T_DAILY_MAX              364 non-null    float64\n",
      " 6   T_DAILY_MIN              364 non-null    float64\n",
      " 7   T_DAILY_MEAN             364 non-null    float64\n",
      " 8   T_DAILY_AVG              364 non-null    float64\n",
      " 9   P_DAILY_CALC             364 non-null    float64\n",
      " 10  SOLARAD_DAILY            364 non-null    float64\n",
      " 11  SUR_TEMP_DAILY_TYPE      365 non-null    object \n",
      " 12  SUR_TEMP_DAILY_MAX       364 non-null    float64\n",
      " 13  SUR_TEMP_DAILY_MIN       364 non-null    float64\n",
      " 14  SUR_TEMP_DAILY_AVG       364 non-null    float64\n",
      " 15  RH_DAILY_MAX             364 non-null    float64\n",
      " 16  RH_DAILY_MIN             364 non-null    float64\n",
      " 17  RH_DAILY_AVG             364 non-null    float64\n",
      " 18  SOIL_MOISTURE_5_DAILY    317 non-null    float64\n",
      " 19  SOIL_MOISTURE_10_DAILY   317 non-null    float64\n",
      " 20  SOIL_MOISTURE_20_DAILY   336 non-null    float64\n",
      " 21  SOIL_MOISTURE_50_DAILY   364 non-null    float64\n",
      " 22  SOIL_MOISTURE_100_DAILY  359 non-null    float64\n",
      " 23  SOIL_TEMP_5_DAILY        364 non-null    float64\n",
      " 24  SOIL_TEMP_10_DAILY       364 non-null    float64\n",
      " 25  SOIL_TEMP_20_DAILY       364 non-null    float64\n",
      " 26  SOIL_TEMP_50_DAILY       364 non-null    float64\n",
      " 27  SOIL_TEMP_100_DAILY      364 non-null    float64\n",
      "dtypes: float64(25), int64(2), object(1)\n",
      "memory usage: 80.0+ KB\n"
     ]
    }
   ],
   "source": [
    "df.info()"
   ]
  },
  {
   "cell_type": "markdown",
   "metadata": {},
   "source": [
    "One problem here is that pandas did not recognize the `LDT_DATE` column as a date. Let's help it."
   ]
  },
  {
   "cell_type": "code",
   "execution_count": 38,
   "metadata": {},
   "outputs": [
    {
     "name": "stdout",
     "output_type": "stream",
     "text": [
      "<class 'pandas.core.frame.DataFrame'>\n",
      "RangeIndex: 365 entries, 0 to 364\n",
      "Data columns (total 28 columns):\n",
      " #   Column                   Non-Null Count  Dtype         \n",
      "---  ------                   --------------  -----         \n",
      " 0   WBANNO                   365 non-null    int64         \n",
      " 1   LST_DATE                 365 non-null    datetime64[ns]\n",
      " 2   CRX_VN                   365 non-null    float64       \n",
      " 3   LONGITUDE                365 non-null    float64       \n",
      " 4   LATITUDE                 365 non-null    float64       \n",
      " 5   T_DAILY_MAX              364 non-null    float64       \n",
      " 6   T_DAILY_MIN              364 non-null    float64       \n",
      " 7   T_DAILY_MEAN             364 non-null    float64       \n",
      " 8   T_DAILY_AVG              364 non-null    float64       \n",
      " 9   P_DAILY_CALC             364 non-null    float64       \n",
      " 10  SOLARAD_DAILY            364 non-null    float64       \n",
      " 11  SUR_TEMP_DAILY_TYPE      365 non-null    object        \n",
      " 12  SUR_TEMP_DAILY_MAX       364 non-null    float64       \n",
      " 13  SUR_TEMP_DAILY_MIN       364 non-null    float64       \n",
      " 14  SUR_TEMP_DAILY_AVG       364 non-null    float64       \n",
      " 15  RH_DAILY_MAX             364 non-null    float64       \n",
      " 16  RH_DAILY_MIN             364 non-null    float64       \n",
      " 17  RH_DAILY_AVG             364 non-null    float64       \n",
      " 18  SOIL_MOISTURE_5_DAILY    317 non-null    float64       \n",
      " 19  SOIL_MOISTURE_10_DAILY   317 non-null    float64       \n",
      " 20  SOIL_MOISTURE_20_DAILY   336 non-null    float64       \n",
      " 21  SOIL_MOISTURE_50_DAILY   364 non-null    float64       \n",
      " 22  SOIL_MOISTURE_100_DAILY  359 non-null    float64       \n",
      " 23  SOIL_TEMP_5_DAILY        364 non-null    float64       \n",
      " 24  SOIL_TEMP_10_DAILY       364 non-null    float64       \n",
      " 25  SOIL_TEMP_20_DAILY       364 non-null    float64       \n",
      " 26  SOIL_TEMP_50_DAILY       364 non-null    float64       \n",
      " 27  SOIL_TEMP_100_DAILY      364 non-null    float64       \n",
      "dtypes: datetime64[ns](1), float64(25), int64(1), object(1)\n",
      "memory usage: 80.0+ KB\n"
     ]
    }
   ],
   "source": [
    "df = pd.read_csv('data/data.txt', sep='\\s+',\n",
    "                 na_values=[-9999.0, -99.0],\n",
    "                 parse_dates=[1])\n",
    "df.info()"
   ]
  },
  {
   "cell_type": "markdown",
   "metadata": {},
   "source": [
    "It worked! Finally, let's tell pandas to use the date column as the index."
   ]
  },
  {
   "cell_type": "code",
   "execution_count": 39,
   "metadata": {},
   "outputs": [
    {
     "data": {
      "text/html": [
       "<div>\n",
       "<style scoped>\n",
       "    .dataframe tbody tr th:only-of-type {\n",
       "        vertical-align: middle;\n",
       "    }\n",
       "\n",
       "    .dataframe tbody tr th {\n",
       "        vertical-align: top;\n",
       "    }\n",
       "\n",
       "    .dataframe thead th {\n",
       "        text-align: right;\n",
       "    }\n",
       "</style>\n",
       "<table border=\"1\" class=\"dataframe\">\n",
       "  <thead>\n",
       "    <tr style=\"text-align: right;\">\n",
       "      <th></th>\n",
       "      <th>WBANNO</th>\n",
       "      <th>CRX_VN</th>\n",
       "      <th>LONGITUDE</th>\n",
       "      <th>LATITUDE</th>\n",
       "      <th>T_DAILY_MAX</th>\n",
       "      <th>T_DAILY_MIN</th>\n",
       "      <th>T_DAILY_MEAN</th>\n",
       "      <th>T_DAILY_AVG</th>\n",
       "      <th>P_DAILY_CALC</th>\n",
       "      <th>SOLARAD_DAILY</th>\n",
       "      <th>...</th>\n",
       "      <th>SOIL_MOISTURE_5_DAILY</th>\n",
       "      <th>SOIL_MOISTURE_10_DAILY</th>\n",
       "      <th>SOIL_MOISTURE_20_DAILY</th>\n",
       "      <th>SOIL_MOISTURE_50_DAILY</th>\n",
       "      <th>SOIL_MOISTURE_100_DAILY</th>\n",
       "      <th>SOIL_TEMP_5_DAILY</th>\n",
       "      <th>SOIL_TEMP_10_DAILY</th>\n",
       "      <th>SOIL_TEMP_20_DAILY</th>\n",
       "      <th>SOIL_TEMP_50_DAILY</th>\n",
       "      <th>SOIL_TEMP_100_DAILY</th>\n",
       "    </tr>\n",
       "    <tr>\n",
       "      <th>LST_DATE</th>\n",
       "      <th></th>\n",
       "      <th></th>\n",
       "      <th></th>\n",
       "      <th></th>\n",
       "      <th></th>\n",
       "      <th></th>\n",
       "      <th></th>\n",
       "      <th></th>\n",
       "      <th></th>\n",
       "      <th></th>\n",
       "      <th></th>\n",
       "      <th></th>\n",
       "      <th></th>\n",
       "      <th></th>\n",
       "      <th></th>\n",
       "      <th></th>\n",
       "      <th></th>\n",
       "      <th></th>\n",
       "      <th></th>\n",
       "      <th></th>\n",
       "      <th></th>\n",
       "    </tr>\n",
       "  </thead>\n",
       "  <tbody>\n",
       "    <tr>\n",
       "      <th>2017-01-01</th>\n",
       "      <td>64756</td>\n",
       "      <td>2.422</td>\n",
       "      <td>-73.74</td>\n",
       "      <td>41.79</td>\n",
       "      <td>6.6</td>\n",
       "      <td>-5.4</td>\n",
       "      <td>0.6</td>\n",
       "      <td>2.2</td>\n",
       "      <td>0.0</td>\n",
       "      <td>8.68</td>\n",
       "      <td>...</td>\n",
       "      <td>NaN</td>\n",
       "      <td>NaN</td>\n",
       "      <td>0.207</td>\n",
       "      <td>0.152</td>\n",
       "      <td>0.175</td>\n",
       "      <td>-0.1</td>\n",
       "      <td>0.0</td>\n",
       "      <td>0.6</td>\n",
       "      <td>1.5</td>\n",
       "      <td>3.4</td>\n",
       "    </tr>\n",
       "    <tr>\n",
       "      <th>2017-01-02</th>\n",
       "      <td>64756</td>\n",
       "      <td>2.422</td>\n",
       "      <td>-73.74</td>\n",
       "      <td>41.79</td>\n",
       "      <td>4.0</td>\n",
       "      <td>-6.8</td>\n",
       "      <td>-1.4</td>\n",
       "      <td>-1.2</td>\n",
       "      <td>0.0</td>\n",
       "      <td>2.08</td>\n",
       "      <td>...</td>\n",
       "      <td>NaN</td>\n",
       "      <td>NaN</td>\n",
       "      <td>0.205</td>\n",
       "      <td>0.151</td>\n",
       "      <td>0.173</td>\n",
       "      <td>-0.2</td>\n",
       "      <td>0.0</td>\n",
       "      <td>0.6</td>\n",
       "      <td>1.5</td>\n",
       "      <td>3.3</td>\n",
       "    </tr>\n",
       "    <tr>\n",
       "      <th>2017-01-03</th>\n",
       "      <td>64756</td>\n",
       "      <td>2.422</td>\n",
       "      <td>-73.74</td>\n",
       "      <td>41.79</td>\n",
       "      <td>4.9</td>\n",
       "      <td>0.7</td>\n",
       "      <td>2.8</td>\n",
       "      <td>2.7</td>\n",
       "      <td>13.1</td>\n",
       "      <td>0.68</td>\n",
       "      <td>...</td>\n",
       "      <td>NaN</td>\n",
       "      <td>NaN</td>\n",
       "      <td>0.205</td>\n",
       "      <td>0.150</td>\n",
       "      <td>0.173</td>\n",
       "      <td>-0.1</td>\n",
       "      <td>0.0</td>\n",
       "      <td>0.5</td>\n",
       "      <td>1.5</td>\n",
       "      <td>3.3</td>\n",
       "    </tr>\n",
       "    <tr>\n",
       "      <th>2017-01-04</th>\n",
       "      <td>64756</td>\n",
       "      <td>2.422</td>\n",
       "      <td>-73.74</td>\n",
       "      <td>41.79</td>\n",
       "      <td>8.7</td>\n",
       "      <td>-1.6</td>\n",
       "      <td>3.6</td>\n",
       "      <td>3.5</td>\n",
       "      <td>1.3</td>\n",
       "      <td>2.85</td>\n",
       "      <td>...</td>\n",
       "      <td>NaN</td>\n",
       "      <td>NaN</td>\n",
       "      <td>0.215</td>\n",
       "      <td>0.153</td>\n",
       "      <td>0.174</td>\n",
       "      <td>-0.1</td>\n",
       "      <td>0.0</td>\n",
       "      <td>0.5</td>\n",
       "      <td>1.5</td>\n",
       "      <td>3.2</td>\n",
       "    </tr>\n",
       "    <tr>\n",
       "      <th>2017-01-05</th>\n",
       "      <td>64756</td>\n",
       "      <td>2.422</td>\n",
       "      <td>-73.74</td>\n",
       "      <td>41.79</td>\n",
       "      <td>-0.5</td>\n",
       "      <td>-4.6</td>\n",
       "      <td>-2.5</td>\n",
       "      <td>-2.8</td>\n",
       "      <td>0.0</td>\n",
       "      <td>4.90</td>\n",
       "      <td>...</td>\n",
       "      <td>NaN</td>\n",
       "      <td>NaN</td>\n",
       "      <td>0.215</td>\n",
       "      <td>0.154</td>\n",
       "      <td>0.177</td>\n",
       "      <td>-0.1</td>\n",
       "      <td>0.0</td>\n",
       "      <td>0.5</td>\n",
       "      <td>1.4</td>\n",
       "      <td>3.1</td>\n",
       "    </tr>\n",
       "  </tbody>\n",
       "</table>\n",
       "<p>5 rows × 27 columns</p>\n",
       "</div>"
      ],
      "text/plain": [
       "            WBANNO  CRX_VN  LONGITUDE  LATITUDE  T_DAILY_MAX  T_DAILY_MIN  \\\n",
       "LST_DATE                                                                    \n",
       "2017-01-01   64756   2.422     -73.74     41.79          6.6         -5.4   \n",
       "2017-01-02   64756   2.422     -73.74     41.79          4.0         -6.8   \n",
       "2017-01-03   64756   2.422     -73.74     41.79          4.9          0.7   \n",
       "2017-01-04   64756   2.422     -73.74     41.79          8.7         -1.6   \n",
       "2017-01-05   64756   2.422     -73.74     41.79         -0.5         -4.6   \n",
       "\n",
       "            T_DAILY_MEAN  T_DAILY_AVG  P_DAILY_CALC  SOLARAD_DAILY  ...  \\\n",
       "LST_DATE                                                            ...   \n",
       "2017-01-01           0.6          2.2           0.0           8.68  ...   \n",
       "2017-01-02          -1.4         -1.2           0.0           2.08  ...   \n",
       "2017-01-03           2.8          2.7          13.1           0.68  ...   \n",
       "2017-01-04           3.6          3.5           1.3           2.85  ...   \n",
       "2017-01-05          -2.5         -2.8           0.0           4.90  ...   \n",
       "\n",
       "           SOIL_MOISTURE_5_DAILY  SOIL_MOISTURE_10_DAILY  \\\n",
       "LST_DATE                                                   \n",
       "2017-01-01                   NaN                     NaN   \n",
       "2017-01-02                   NaN                     NaN   \n",
       "2017-01-03                   NaN                     NaN   \n",
       "2017-01-04                   NaN                     NaN   \n",
       "2017-01-05                   NaN                     NaN   \n",
       "\n",
       "            SOIL_MOISTURE_20_DAILY  SOIL_MOISTURE_50_DAILY  \\\n",
       "LST_DATE                                                     \n",
       "2017-01-01                   0.207                   0.152   \n",
       "2017-01-02                   0.205                   0.151   \n",
       "2017-01-03                   0.205                   0.150   \n",
       "2017-01-04                   0.215                   0.153   \n",
       "2017-01-05                   0.215                   0.154   \n",
       "\n",
       "            SOIL_MOISTURE_100_DAILY  SOIL_TEMP_5_DAILY  SOIL_TEMP_10_DAILY  \\\n",
       "LST_DATE                                                                     \n",
       "2017-01-01                    0.175               -0.1                 0.0   \n",
       "2017-01-02                    0.173               -0.2                 0.0   \n",
       "2017-01-03                    0.173               -0.1                 0.0   \n",
       "2017-01-04                    0.174               -0.1                 0.0   \n",
       "2017-01-05                    0.177               -0.1                 0.0   \n",
       "\n",
       "            SOIL_TEMP_20_DAILY  SOIL_TEMP_50_DAILY  SOIL_TEMP_100_DAILY  \n",
       "LST_DATE                                                                 \n",
       "2017-01-01                 0.6                 1.5                  3.4  \n",
       "2017-01-02                 0.6                 1.5                  3.3  \n",
       "2017-01-03                 0.5                 1.5                  3.3  \n",
       "2017-01-04                 0.5                 1.5                  3.2  \n",
       "2017-01-05                 0.5                 1.4                  3.1  \n",
       "\n",
       "[5 rows x 27 columns]"
      ]
     },
     "execution_count": 39,
     "metadata": {},
     "output_type": "execute_result"
    }
   ],
   "source": [
    "df = df.set_index('LST_DATE')\n",
    "df.head()"
   ]
  },
  {
   "cell_type": "markdown",
   "metadata": {},
   "source": [
    "We can now access values by time:"
   ]
  },
  {
   "cell_type": "code",
   "execution_count": 40,
   "metadata": {},
   "outputs": [
    {
     "data": {
      "text/plain": [
       "WBANNO                     64756\n",
       "CRX_VN                     2.422\n",
       "LONGITUDE                 -73.74\n",
       "LATITUDE                   41.79\n",
       "T_DAILY_MAX                 19.3\n",
       "T_DAILY_MIN                 12.3\n",
       "T_DAILY_MEAN                15.8\n",
       "T_DAILY_AVG                 16.3\n",
       "P_DAILY_CALC                 4.9\n",
       "SOLARAD_DAILY               3.93\n",
       "SUR_TEMP_DAILY_TYPE            C\n",
       "SUR_TEMP_DAILY_MAX          22.3\n",
       "SUR_TEMP_DAILY_MIN          11.9\n",
       "SUR_TEMP_DAILY_AVG          17.7\n",
       "RH_DAILY_MAX                94.7\n",
       "RH_DAILY_MIN                76.4\n",
       "RH_DAILY_AVG                89.5\n",
       "SOIL_MOISTURE_5_DAILY      0.148\n",
       "SOIL_MOISTURE_10_DAILY     0.113\n",
       "SOIL_MOISTURE_20_DAILY     0.094\n",
       "SOIL_MOISTURE_50_DAILY     0.114\n",
       "SOIL_MOISTURE_100_DAILY    0.151\n",
       "SOIL_TEMP_5_DAILY           21.4\n",
       "SOIL_TEMP_10_DAILY          21.7\n",
       "SOIL_TEMP_20_DAILY          22.1\n",
       "SOIL_TEMP_50_DAILY          22.2\n",
       "SOIL_TEMP_100_DAILY         21.5\n",
       "Name: 2017-08-07 00:00:00, dtype: object"
      ]
     },
     "execution_count": 40,
     "metadata": {},
     "output_type": "execute_result"
    }
   ],
   "source": [
    "df.loc['2017-08-07']"
   ]
  },
  {
   "cell_type": "markdown",
   "metadata": {},
   "source": [
    "Or use slicing to get a range:"
   ]
  },
  {
   "cell_type": "code",
   "execution_count": 41,
   "metadata": {},
   "outputs": [
    {
     "data": {
      "text/html": [
       "<div>\n",
       "<style scoped>\n",
       "    .dataframe tbody tr th:only-of-type {\n",
       "        vertical-align: middle;\n",
       "    }\n",
       "\n",
       "    .dataframe tbody tr th {\n",
       "        vertical-align: top;\n",
       "    }\n",
       "\n",
       "    .dataframe thead th {\n",
       "        text-align: right;\n",
       "    }\n",
       "</style>\n",
       "<table border=\"1\" class=\"dataframe\">\n",
       "  <thead>\n",
       "    <tr style=\"text-align: right;\">\n",
       "      <th></th>\n",
       "      <th>WBANNO</th>\n",
       "      <th>CRX_VN</th>\n",
       "      <th>LONGITUDE</th>\n",
       "      <th>LATITUDE</th>\n",
       "      <th>T_DAILY_MAX</th>\n",
       "      <th>T_DAILY_MIN</th>\n",
       "      <th>T_DAILY_MEAN</th>\n",
       "      <th>T_DAILY_AVG</th>\n",
       "      <th>P_DAILY_CALC</th>\n",
       "      <th>SOLARAD_DAILY</th>\n",
       "      <th>...</th>\n",
       "      <th>SOIL_MOISTURE_5_DAILY</th>\n",
       "      <th>SOIL_MOISTURE_10_DAILY</th>\n",
       "      <th>SOIL_MOISTURE_20_DAILY</th>\n",
       "      <th>SOIL_MOISTURE_50_DAILY</th>\n",
       "      <th>SOIL_MOISTURE_100_DAILY</th>\n",
       "      <th>SOIL_TEMP_5_DAILY</th>\n",
       "      <th>SOIL_TEMP_10_DAILY</th>\n",
       "      <th>SOIL_TEMP_20_DAILY</th>\n",
       "      <th>SOIL_TEMP_50_DAILY</th>\n",
       "      <th>SOIL_TEMP_100_DAILY</th>\n",
       "    </tr>\n",
       "    <tr>\n",
       "      <th>LST_DATE</th>\n",
       "      <th></th>\n",
       "      <th></th>\n",
       "      <th></th>\n",
       "      <th></th>\n",
       "      <th></th>\n",
       "      <th></th>\n",
       "      <th></th>\n",
       "      <th></th>\n",
       "      <th></th>\n",
       "      <th></th>\n",
       "      <th></th>\n",
       "      <th></th>\n",
       "      <th></th>\n",
       "      <th></th>\n",
       "      <th></th>\n",
       "      <th></th>\n",
       "      <th></th>\n",
       "      <th></th>\n",
       "      <th></th>\n",
       "      <th></th>\n",
       "      <th></th>\n",
       "    </tr>\n",
       "  </thead>\n",
       "  <tbody>\n",
       "    <tr>\n",
       "      <th>2017-07-01</th>\n",
       "      <td>64756</td>\n",
       "      <td>2.422</td>\n",
       "      <td>-73.74</td>\n",
       "      <td>41.79</td>\n",
       "      <td>28.0</td>\n",
       "      <td>19.7</td>\n",
       "      <td>23.9</td>\n",
       "      <td>23.8</td>\n",
       "      <td>0.2</td>\n",
       "      <td>19.28</td>\n",
       "      <td>...</td>\n",
       "      <td>0.157</td>\n",
       "      <td>0.136</td>\n",
       "      <td>0.144</td>\n",
       "      <td>0.129</td>\n",
       "      <td>0.163</td>\n",
       "      <td>25.7</td>\n",
       "      <td>25.4</td>\n",
       "      <td>23.7</td>\n",
       "      <td>21.9</td>\n",
       "      <td>19.9</td>\n",
       "    </tr>\n",
       "    <tr>\n",
       "      <th>2017-07-02</th>\n",
       "      <td>64756</td>\n",
       "      <td>2.422</td>\n",
       "      <td>-73.74</td>\n",
       "      <td>41.79</td>\n",
       "      <td>29.8</td>\n",
       "      <td>18.4</td>\n",
       "      <td>24.1</td>\n",
       "      <td>23.7</td>\n",
       "      <td>4.0</td>\n",
       "      <td>27.67</td>\n",
       "      <td>...</td>\n",
       "      <td>0.146</td>\n",
       "      <td>0.135</td>\n",
       "      <td>0.143</td>\n",
       "      <td>0.129</td>\n",
       "      <td>0.162</td>\n",
       "      <td>26.8</td>\n",
       "      <td>26.4</td>\n",
       "      <td>24.5</td>\n",
       "      <td>22.3</td>\n",
       "      <td>20.1</td>\n",
       "    </tr>\n",
       "    <tr>\n",
       "      <th>2017-07-03</th>\n",
       "      <td>64756</td>\n",
       "      <td>2.422</td>\n",
       "      <td>-73.74</td>\n",
       "      <td>41.79</td>\n",
       "      <td>28.3</td>\n",
       "      <td>15.0</td>\n",
       "      <td>21.7</td>\n",
       "      <td>21.4</td>\n",
       "      <td>0.0</td>\n",
       "      <td>27.08</td>\n",
       "      <td>...</td>\n",
       "      <td>0.141</td>\n",
       "      <td>0.132</td>\n",
       "      <td>0.139</td>\n",
       "      <td>0.128</td>\n",
       "      <td>0.162</td>\n",
       "      <td>26.4</td>\n",
       "      <td>26.3</td>\n",
       "      <td>24.8</td>\n",
       "      <td>22.8</td>\n",
       "      <td>20.3</td>\n",
       "    </tr>\n",
       "    <tr>\n",
       "      <th>2017-07-04</th>\n",
       "      <td>64756</td>\n",
       "      <td>2.422</td>\n",
       "      <td>-73.74</td>\n",
       "      <td>41.79</td>\n",
       "      <td>26.8</td>\n",
       "      <td>12.6</td>\n",
       "      <td>19.7</td>\n",
       "      <td>20.0</td>\n",
       "      <td>0.0</td>\n",
       "      <td>29.45</td>\n",
       "      <td>...</td>\n",
       "      <td>0.131</td>\n",
       "      <td>0.126</td>\n",
       "      <td>0.136</td>\n",
       "      <td>0.126</td>\n",
       "      <td>0.161</td>\n",
       "      <td>25.9</td>\n",
       "      <td>25.8</td>\n",
       "      <td>24.6</td>\n",
       "      <td>22.9</td>\n",
       "      <td>20.6</td>\n",
       "    </tr>\n",
       "    <tr>\n",
       "      <th>2017-07-05</th>\n",
       "      <td>64756</td>\n",
       "      <td>2.422</td>\n",
       "      <td>-73.74</td>\n",
       "      <td>41.79</td>\n",
       "      <td>28.0</td>\n",
       "      <td>11.9</td>\n",
       "      <td>20.0</td>\n",
       "      <td>20.7</td>\n",
       "      <td>0.0</td>\n",
       "      <td>26.90</td>\n",
       "      <td>...</td>\n",
       "      <td>0.116</td>\n",
       "      <td>0.114</td>\n",
       "      <td>0.131</td>\n",
       "      <td>0.125</td>\n",
       "      <td>0.161</td>\n",
       "      <td>25.3</td>\n",
       "      <td>25.3</td>\n",
       "      <td>24.2</td>\n",
       "      <td>22.8</td>\n",
       "      <td>20.7</td>\n",
       "    </tr>\n",
       "    <tr>\n",
       "      <th>2017-07-06</th>\n",
       "      <td>64756</td>\n",
       "      <td>2.422</td>\n",
       "      <td>-73.74</td>\n",
       "      <td>41.79</td>\n",
       "      <td>25.7</td>\n",
       "      <td>14.3</td>\n",
       "      <td>20.0</td>\n",
       "      <td>20.3</td>\n",
       "      <td>0.0</td>\n",
       "      <td>19.03</td>\n",
       "      <td>...</td>\n",
       "      <td>0.105</td>\n",
       "      <td>0.104</td>\n",
       "      <td>0.126</td>\n",
       "      <td>0.124</td>\n",
       "      <td>0.160</td>\n",
       "      <td>24.7</td>\n",
       "      <td>24.7</td>\n",
       "      <td>23.9</td>\n",
       "      <td>22.7</td>\n",
       "      <td>20.9</td>\n",
       "    </tr>\n",
       "    <tr>\n",
       "      <th>2017-07-07</th>\n",
       "      <td>64756</td>\n",
       "      <td>2.422</td>\n",
       "      <td>-73.74</td>\n",
       "      <td>41.79</td>\n",
       "      <td>25.8</td>\n",
       "      <td>16.8</td>\n",
       "      <td>21.3</td>\n",
       "      <td>20.0</td>\n",
       "      <td>11.5</td>\n",
       "      <td>13.88</td>\n",
       "      <td>...</td>\n",
       "      <td>0.114</td>\n",
       "      <td>0.100</td>\n",
       "      <td>0.123</td>\n",
       "      <td>0.123</td>\n",
       "      <td>0.160</td>\n",
       "      <td>24.2</td>\n",
       "      <td>24.2</td>\n",
       "      <td>23.4</td>\n",
       "      <td>22.4</td>\n",
       "      <td>20.8</td>\n",
       "    </tr>\n",
       "    <tr>\n",
       "      <th>2017-07-08</th>\n",
       "      <td>64756</td>\n",
       "      <td>2.422</td>\n",
       "      <td>-73.74</td>\n",
       "      <td>41.79</td>\n",
       "      <td>29.0</td>\n",
       "      <td>15.3</td>\n",
       "      <td>22.1</td>\n",
       "      <td>21.5</td>\n",
       "      <td>0.0</td>\n",
       "      <td>21.92</td>\n",
       "      <td>...</td>\n",
       "      <td>0.130</td>\n",
       "      <td>0.106</td>\n",
       "      <td>0.122</td>\n",
       "      <td>0.123</td>\n",
       "      <td>0.159</td>\n",
       "      <td>25.5</td>\n",
       "      <td>25.3</td>\n",
       "      <td>23.9</td>\n",
       "      <td>22.4</td>\n",
       "      <td>20.8</td>\n",
       "    </tr>\n",
       "    <tr>\n",
       "      <th>2017-07-09</th>\n",
       "      <td>64756</td>\n",
       "      <td>2.422</td>\n",
       "      <td>-73.74</td>\n",
       "      <td>41.79</td>\n",
       "      <td>26.3</td>\n",
       "      <td>10.9</td>\n",
       "      <td>18.6</td>\n",
       "      <td>19.4</td>\n",
       "      <td>0.0</td>\n",
       "      <td>29.72</td>\n",
       "      <td>...</td>\n",
       "      <td>0.119</td>\n",
       "      <td>0.103</td>\n",
       "      <td>0.119</td>\n",
       "      <td>0.121</td>\n",
       "      <td>0.158</td>\n",
       "      <td>24.8</td>\n",
       "      <td>24.8</td>\n",
       "      <td>23.8</td>\n",
       "      <td>22.5</td>\n",
       "      <td>20.8</td>\n",
       "    </tr>\n",
       "    <tr>\n",
       "      <th>2017-07-10</th>\n",
       "      <td>64756</td>\n",
       "      <td>2.422</td>\n",
       "      <td>-73.74</td>\n",
       "      <td>41.79</td>\n",
       "      <td>27.6</td>\n",
       "      <td>11.8</td>\n",
       "      <td>19.7</td>\n",
       "      <td>21.3</td>\n",
       "      <td>0.0</td>\n",
       "      <td>23.67</td>\n",
       "      <td>...</td>\n",
       "      <td>0.105</td>\n",
       "      <td>0.096</td>\n",
       "      <td>0.113</td>\n",
       "      <td>0.120</td>\n",
       "      <td>0.158</td>\n",
       "      <td>24.7</td>\n",
       "      <td>24.7</td>\n",
       "      <td>23.6</td>\n",
       "      <td>22.5</td>\n",
       "      <td>20.9</td>\n",
       "    </tr>\n",
       "    <tr>\n",
       "      <th>2017-07-11</th>\n",
       "      <td>64756</td>\n",
       "      <td>2.422</td>\n",
       "      <td>-73.74</td>\n",
       "      <td>41.79</td>\n",
       "      <td>27.4</td>\n",
       "      <td>19.2</td>\n",
       "      <td>23.3</td>\n",
       "      <td>22.6</td>\n",
       "      <td>8.5</td>\n",
       "      <td>17.79</td>\n",
       "      <td>...</td>\n",
       "      <td>0.106</td>\n",
       "      <td>0.093</td>\n",
       "      <td>0.110</td>\n",
       "      <td>0.120</td>\n",
       "      <td>0.157</td>\n",
       "      <td>25.6</td>\n",
       "      <td>25.4</td>\n",
       "      <td>24.1</td>\n",
       "      <td>22.6</td>\n",
       "      <td>20.9</td>\n",
       "    </tr>\n",
       "    <tr>\n",
       "      <th>2017-07-12</th>\n",
       "      <td>64756</td>\n",
       "      <td>2.422</td>\n",
       "      <td>-73.74</td>\n",
       "      <td>41.79</td>\n",
       "      <td>29.4</td>\n",
       "      <td>18.5</td>\n",
       "      <td>23.9</td>\n",
       "      <td>23.1</td>\n",
       "      <td>1.9</td>\n",
       "      <td>16.27</td>\n",
       "      <td>...</td>\n",
       "      <td>0.108</td>\n",
       "      <td>0.094</td>\n",
       "      <td>0.108</td>\n",
       "      <td>0.118</td>\n",
       "      <td>0.157</td>\n",
       "      <td>25.8</td>\n",
       "      <td>25.6</td>\n",
       "      <td>24.2</td>\n",
       "      <td>22.8</td>\n",
       "      <td>21.0</td>\n",
       "    </tr>\n",
       "    <tr>\n",
       "      <th>2017-07-13</th>\n",
       "      <td>64756</td>\n",
       "      <td>2.422</td>\n",
       "      <td>-73.74</td>\n",
       "      <td>41.79</td>\n",
       "      <td>29.5</td>\n",
       "      <td>18.3</td>\n",
       "      <td>23.9</td>\n",
       "      <td>23.4</td>\n",
       "      <td>23.3</td>\n",
       "      <td>13.61</td>\n",
       "      <td>...</td>\n",
       "      <td>0.134</td>\n",
       "      <td>0.110</td>\n",
       "      <td>0.108</td>\n",
       "      <td>0.118</td>\n",
       "      <td>0.156</td>\n",
       "      <td>25.7</td>\n",
       "      <td>25.7</td>\n",
       "      <td>24.4</td>\n",
       "      <td>23.0</td>\n",
       "      <td>21.0</td>\n",
       "    </tr>\n",
       "    <tr>\n",
       "      <th>2017-07-14</th>\n",
       "      <td>64756</td>\n",
       "      <td>2.422</td>\n",
       "      <td>-73.74</td>\n",
       "      <td>41.79</td>\n",
       "      <td>18.5</td>\n",
       "      <td>15.9</td>\n",
       "      <td>17.2</td>\n",
       "      <td>17.5</td>\n",
       "      <td>4.1</td>\n",
       "      <td>5.36</td>\n",
       "      <td>...</td>\n",
       "      <td>0.194</td>\n",
       "      <td>0.151</td>\n",
       "      <td>0.114</td>\n",
       "      <td>0.120</td>\n",
       "      <td>0.155</td>\n",
       "      <td>23.0</td>\n",
       "      <td>23.3</td>\n",
       "      <td>23.4</td>\n",
       "      <td>22.9</td>\n",
       "      <td>21.2</td>\n",
       "    </tr>\n",
       "    <tr>\n",
       "      <th>2017-07-15</th>\n",
       "      <td>64756</td>\n",
       "      <td>2.422</td>\n",
       "      <td>-73.74</td>\n",
       "      <td>41.79</td>\n",
       "      <td>26.6</td>\n",
       "      <td>16.5</td>\n",
       "      <td>21.5</td>\n",
       "      <td>21.0</td>\n",
       "      <td>0.8</td>\n",
       "      <td>21.13</td>\n",
       "      <td>...</td>\n",
       "      <td>0.190</td>\n",
       "      <td>0.163</td>\n",
       "      <td>0.119</td>\n",
       "      <td>0.122</td>\n",
       "      <td>0.155</td>\n",
       "      <td>24.6</td>\n",
       "      <td>24.4</td>\n",
       "      <td>23.2</td>\n",
       "      <td>22.2</td>\n",
       "      <td>21.2</td>\n",
       "    </tr>\n",
       "    <tr>\n",
       "      <th>2017-07-16</th>\n",
       "      <td>64756</td>\n",
       "      <td>2.422</td>\n",
       "      <td>-73.74</td>\n",
       "      <td>41.79</td>\n",
       "      <td>27.9</td>\n",
       "      <td>13.3</td>\n",
       "      <td>20.6</td>\n",
       "      <td>21.0</td>\n",
       "      <td>0.0</td>\n",
       "      <td>27.03</td>\n",
       "      <td>...</td>\n",
       "      <td>0.171</td>\n",
       "      <td>0.154</td>\n",
       "      <td>0.123</td>\n",
       "      <td>0.123</td>\n",
       "      <td>0.155</td>\n",
       "      <td>25.4</td>\n",
       "      <td>25.3</td>\n",
       "      <td>23.9</td>\n",
       "      <td>22.6</td>\n",
       "      <td>21.1</td>\n",
       "    </tr>\n",
       "    <tr>\n",
       "      <th>2017-07-17</th>\n",
       "      <td>64756</td>\n",
       "      <td>2.422</td>\n",
       "      <td>-73.74</td>\n",
       "      <td>41.79</td>\n",
       "      <td>29.2</td>\n",
       "      <td>16.1</td>\n",
       "      <td>22.6</td>\n",
       "      <td>22.9</td>\n",
       "      <td>0.0</td>\n",
       "      <td>20.47</td>\n",
       "      <td>...</td>\n",
       "      <td>0.155</td>\n",
       "      <td>0.143</td>\n",
       "      <td>0.124</td>\n",
       "      <td>0.122</td>\n",
       "      <td>0.156</td>\n",
       "      <td>25.7</td>\n",
       "      <td>25.6</td>\n",
       "      <td>24.4</td>\n",
       "      <td>22.9</td>\n",
       "      <td>21.2</td>\n",
       "    </tr>\n",
       "    <tr>\n",
       "      <th>2017-07-18</th>\n",
       "      <td>64756</td>\n",
       "      <td>2.422</td>\n",
       "      <td>-73.74</td>\n",
       "      <td>41.79</td>\n",
       "      <td>30.3</td>\n",
       "      <td>19.3</td>\n",
       "      <td>24.8</td>\n",
       "      <td>24.7</td>\n",
       "      <td>0.0</td>\n",
       "      <td>24.99</td>\n",
       "      <td>...</td>\n",
       "      <td>0.142</td>\n",
       "      <td>0.132</td>\n",
       "      <td>0.122</td>\n",
       "      <td>0.122</td>\n",
       "      <td>0.156</td>\n",
       "      <td>27.0</td>\n",
       "      <td>26.7</td>\n",
       "      <td>24.9</td>\n",
       "      <td>23.2</td>\n",
       "      <td>21.3</td>\n",
       "    </tr>\n",
       "    <tr>\n",
       "      <th>2017-07-19</th>\n",
       "      <td>64756</td>\n",
       "      <td>2.422</td>\n",
       "      <td>-73.74</td>\n",
       "      <td>41.79</td>\n",
       "      <td>31.2</td>\n",
       "      <td>19.1</td>\n",
       "      <td>25.1</td>\n",
       "      <td>25.0</td>\n",
       "      <td>0.0</td>\n",
       "      <td>27.69</td>\n",
       "      <td>...</td>\n",
       "      <td>0.126</td>\n",
       "      <td>0.118</td>\n",
       "      <td>0.118</td>\n",
       "      <td>0.122</td>\n",
       "      <td>0.156</td>\n",
       "      <td>27.6</td>\n",
       "      <td>27.4</td>\n",
       "      <td>25.6</td>\n",
       "      <td>23.7</td>\n",
       "      <td>21.5</td>\n",
       "    </tr>\n",
       "    <tr>\n",
       "      <th>2017-07-20</th>\n",
       "      <td>64756</td>\n",
       "      <td>2.422</td>\n",
       "      <td>-73.74</td>\n",
       "      <td>41.79</td>\n",
       "      <td>31.8</td>\n",
       "      <td>16.6</td>\n",
       "      <td>24.2</td>\n",
       "      <td>23.4</td>\n",
       "      <td>0.7</td>\n",
       "      <td>21.53</td>\n",
       "      <td>...</td>\n",
       "      <td>0.111</td>\n",
       "      <td>0.103</td>\n",
       "      <td>0.114</td>\n",
       "      <td>0.121</td>\n",
       "      <td>0.156</td>\n",
       "      <td>27.0</td>\n",
       "      <td>27.0</td>\n",
       "      <td>25.6</td>\n",
       "      <td>24.0</td>\n",
       "      <td>21.7</td>\n",
       "    </tr>\n",
       "    <tr>\n",
       "      <th>2017-07-21</th>\n",
       "      <td>64756</td>\n",
       "      <td>2.422</td>\n",
       "      <td>-73.74</td>\n",
       "      <td>41.79</td>\n",
       "      <td>30.6</td>\n",
       "      <td>16.6</td>\n",
       "      <td>23.6</td>\n",
       "      <td>23.6</td>\n",
       "      <td>0.0</td>\n",
       "      <td>25.55</td>\n",
       "      <td>...</td>\n",
       "      <td>0.100</td>\n",
       "      <td>0.093</td>\n",
       "      <td>0.108</td>\n",
       "      <td>0.120</td>\n",
       "      <td>0.155</td>\n",
       "      <td>27.1</td>\n",
       "      <td>27.0</td>\n",
       "      <td>25.5</td>\n",
       "      <td>24.0</td>\n",
       "      <td>21.9</td>\n",
       "    </tr>\n",
       "    <tr>\n",
       "      <th>2017-07-22</th>\n",
       "      <td>64756</td>\n",
       "      <td>2.422</td>\n",
       "      <td>-73.74</td>\n",
       "      <td>41.79</td>\n",
       "      <td>27.7</td>\n",
       "      <td>15.6</td>\n",
       "      <td>21.7</td>\n",
       "      <td>21.2</td>\n",
       "      <td>0.5</td>\n",
       "      <td>16.04</td>\n",
       "      <td>...</td>\n",
       "      <td>0.092</td>\n",
       "      <td>0.086</td>\n",
       "      <td>0.104</td>\n",
       "      <td>0.119</td>\n",
       "      <td>0.156</td>\n",
       "      <td>25.9</td>\n",
       "      <td>26.1</td>\n",
       "      <td>25.3</td>\n",
       "      <td>24.1</td>\n",
       "      <td>22.0</td>\n",
       "    </tr>\n",
       "    <tr>\n",
       "      <th>2017-07-23</th>\n",
       "      <td>64756</td>\n",
       "      <td>2.422</td>\n",
       "      <td>-73.74</td>\n",
       "      <td>41.79</td>\n",
       "      <td>26.4</td>\n",
       "      <td>18.5</td>\n",
       "      <td>22.5</td>\n",
       "      <td>22.2</td>\n",
       "      <td>0.0</td>\n",
       "      <td>19.03</td>\n",
       "      <td>...</td>\n",
       "      <td>0.087</td>\n",
       "      <td>0.082</td>\n",
       "      <td>0.100</td>\n",
       "      <td>0.118</td>\n",
       "      <td>0.155</td>\n",
       "      <td>26.0</td>\n",
       "      <td>26.0</td>\n",
       "      <td>24.9</td>\n",
       "      <td>23.8</td>\n",
       "      <td>22.1</td>\n",
       "    </tr>\n",
       "    <tr>\n",
       "      <th>2017-07-24</th>\n",
       "      <td>64756</td>\n",
       "      <td>2.422</td>\n",
       "      <td>-73.74</td>\n",
       "      <td>41.79</td>\n",
       "      <td>19.4</td>\n",
       "      <td>14.8</td>\n",
       "      <td>17.1</td>\n",
       "      <td>16.7</td>\n",
       "      <td>29.2</td>\n",
       "      <td>9.10</td>\n",
       "      <td>...</td>\n",
       "      <td>0.145</td>\n",
       "      <td>0.118</td>\n",
       "      <td>0.102</td>\n",
       "      <td>0.117</td>\n",
       "      <td>0.154</td>\n",
       "      <td>23.1</td>\n",
       "      <td>23.6</td>\n",
       "      <td>23.9</td>\n",
       "      <td>23.5</td>\n",
       "      <td>22.1</td>\n",
       "    </tr>\n",
       "    <tr>\n",
       "      <th>2017-07-25</th>\n",
       "      <td>64756</td>\n",
       "      <td>2.422</td>\n",
       "      <td>-73.74</td>\n",
       "      <td>41.79</td>\n",
       "      <td>18.6</td>\n",
       "      <td>13.7</td>\n",
       "      <td>16.2</td>\n",
       "      <td>16.2</td>\n",
       "      <td>0.0</td>\n",
       "      <td>7.35</td>\n",
       "      <td>...</td>\n",
       "      <td>0.167</td>\n",
       "      <td>0.133</td>\n",
       "      <td>0.107</td>\n",
       "      <td>0.116</td>\n",
       "      <td>0.153</td>\n",
       "      <td>21.9</td>\n",
       "      <td>22.2</td>\n",
       "      <td>22.4</td>\n",
       "      <td>22.5</td>\n",
       "      <td>21.9</td>\n",
       "    </tr>\n",
       "    <tr>\n",
       "      <th>2017-07-26</th>\n",
       "      <td>64756</td>\n",
       "      <td>2.422</td>\n",
       "      <td>-73.74</td>\n",
       "      <td>41.79</td>\n",
       "      <td>24.7</td>\n",
       "      <td>11.2</td>\n",
       "      <td>18.0</td>\n",
       "      <td>18.3</td>\n",
       "      <td>0.0</td>\n",
       "      <td>22.22</td>\n",
       "      <td>...</td>\n",
       "      <td>0.155</td>\n",
       "      <td>0.128</td>\n",
       "      <td>0.108</td>\n",
       "      <td>0.118</td>\n",
       "      <td>0.152</td>\n",
       "      <td>22.9</td>\n",
       "      <td>23.0</td>\n",
       "      <td>22.3</td>\n",
       "      <td>22.0</td>\n",
       "      <td>21.7</td>\n",
       "    </tr>\n",
       "    <tr>\n",
       "      <th>2017-07-27</th>\n",
       "      <td>64756</td>\n",
       "      <td>2.422</td>\n",
       "      <td>-73.74</td>\n",
       "      <td>41.79</td>\n",
       "      <td>24.2</td>\n",
       "      <td>15.2</td>\n",
       "      <td>19.7</td>\n",
       "      <td>19.5</td>\n",
       "      <td>0.0</td>\n",
       "      <td>8.28</td>\n",
       "      <td>...</td>\n",
       "      <td>0.144</td>\n",
       "      <td>0.122</td>\n",
       "      <td>0.109</td>\n",
       "      <td>0.118</td>\n",
       "      <td>0.154</td>\n",
       "      <td>22.5</td>\n",
       "      <td>22.7</td>\n",
       "      <td>22.4</td>\n",
       "      <td>22.0</td>\n",
       "      <td>21.4</td>\n",
       "    </tr>\n",
       "    <tr>\n",
       "      <th>2017-07-28</th>\n",
       "      <td>64756</td>\n",
       "      <td>2.422</td>\n",
       "      <td>-73.74</td>\n",
       "      <td>41.79</td>\n",
       "      <td>26.5</td>\n",
       "      <td>16.9</td>\n",
       "      <td>21.7</td>\n",
       "      <td>20.9</td>\n",
       "      <td>0.0</td>\n",
       "      <td>21.06</td>\n",
       "      <td>...</td>\n",
       "      <td>0.137</td>\n",
       "      <td>0.117</td>\n",
       "      <td>0.110</td>\n",
       "      <td>0.119</td>\n",
       "      <td>0.154</td>\n",
       "      <td>24.1</td>\n",
       "      <td>24.1</td>\n",
       "      <td>22.8</td>\n",
       "      <td>22.0</td>\n",
       "      <td>21.3</td>\n",
       "    </tr>\n",
       "    <tr>\n",
       "      <th>2017-07-29</th>\n",
       "      <td>64756</td>\n",
       "      <td>2.422</td>\n",
       "      <td>-73.74</td>\n",
       "      <td>41.79</td>\n",
       "      <td>24.2</td>\n",
       "      <td>10.4</td>\n",
       "      <td>17.3</td>\n",
       "      <td>18.1</td>\n",
       "      <td>0.0</td>\n",
       "      <td>21.28</td>\n",
       "      <td>...</td>\n",
       "      <td>0.126</td>\n",
       "      <td>0.108</td>\n",
       "      <td>0.108</td>\n",
       "      <td>0.118</td>\n",
       "      <td>0.154</td>\n",
       "      <td>23.3</td>\n",
       "      <td>23.6</td>\n",
       "      <td>23.0</td>\n",
       "      <td>22.2</td>\n",
       "      <td>21.3</td>\n",
       "    </tr>\n",
       "    <tr>\n",
       "      <th>2017-07-30</th>\n",
       "      <td>64756</td>\n",
       "      <td>2.422</td>\n",
       "      <td>-73.74</td>\n",
       "      <td>41.79</td>\n",
       "      <td>25.5</td>\n",
       "      <td>8.2</td>\n",
       "      <td>16.8</td>\n",
       "      <td>17.3</td>\n",
       "      <td>0.0</td>\n",
       "      <td>27.68</td>\n",
       "      <td>...</td>\n",
       "      <td>0.113</td>\n",
       "      <td>0.099</td>\n",
       "      <td>0.104</td>\n",
       "      <td>0.117</td>\n",
       "      <td>0.154</td>\n",
       "      <td>22.8</td>\n",
       "      <td>23.0</td>\n",
       "      <td>22.4</td>\n",
       "      <td>22.0</td>\n",
       "      <td>21.3</td>\n",
       "    </tr>\n",
       "    <tr>\n",
       "      <th>2017-07-31</th>\n",
       "      <td>64756</td>\n",
       "      <td>2.422</td>\n",
       "      <td>-73.74</td>\n",
       "      <td>41.79</td>\n",
       "      <td>29.4</td>\n",
       "      <td>10.1</td>\n",
       "      <td>19.7</td>\n",
       "      <td>20.1</td>\n",
       "      <td>0.0</td>\n",
       "      <td>25.49</td>\n",
       "      <td>...</td>\n",
       "      <td>0.101</td>\n",
       "      <td>0.090</td>\n",
       "      <td>0.099</td>\n",
       "      <td>0.116</td>\n",
       "      <td>0.153</td>\n",
       "      <td>23.8</td>\n",
       "      <td>23.8</td>\n",
       "      <td>22.7</td>\n",
       "      <td>21.9</td>\n",
       "      <td>21.2</td>\n",
       "    </tr>\n",
       "  </tbody>\n",
       "</table>\n",
       "<p>31 rows × 27 columns</p>\n",
       "</div>"
      ],
      "text/plain": [
       "            WBANNO  CRX_VN  LONGITUDE  LATITUDE  T_DAILY_MAX  T_DAILY_MIN  \\\n",
       "LST_DATE                                                                    \n",
       "2017-07-01   64756   2.422     -73.74     41.79         28.0         19.7   \n",
       "2017-07-02   64756   2.422     -73.74     41.79         29.8         18.4   \n",
       "2017-07-03   64756   2.422     -73.74     41.79         28.3         15.0   \n",
       "2017-07-04   64756   2.422     -73.74     41.79         26.8         12.6   \n",
       "2017-07-05   64756   2.422     -73.74     41.79         28.0         11.9   \n",
       "2017-07-06   64756   2.422     -73.74     41.79         25.7         14.3   \n",
       "2017-07-07   64756   2.422     -73.74     41.79         25.8         16.8   \n",
       "2017-07-08   64756   2.422     -73.74     41.79         29.0         15.3   \n",
       "2017-07-09   64756   2.422     -73.74     41.79         26.3         10.9   \n",
       "2017-07-10   64756   2.422     -73.74     41.79         27.6         11.8   \n",
       "2017-07-11   64756   2.422     -73.74     41.79         27.4         19.2   \n",
       "2017-07-12   64756   2.422     -73.74     41.79         29.4         18.5   \n",
       "2017-07-13   64756   2.422     -73.74     41.79         29.5         18.3   \n",
       "2017-07-14   64756   2.422     -73.74     41.79         18.5         15.9   \n",
       "2017-07-15   64756   2.422     -73.74     41.79         26.6         16.5   \n",
       "2017-07-16   64756   2.422     -73.74     41.79         27.9         13.3   \n",
       "2017-07-17   64756   2.422     -73.74     41.79         29.2         16.1   \n",
       "2017-07-18   64756   2.422     -73.74     41.79         30.3         19.3   \n",
       "2017-07-19   64756   2.422     -73.74     41.79         31.2         19.1   \n",
       "2017-07-20   64756   2.422     -73.74     41.79         31.8         16.6   \n",
       "2017-07-21   64756   2.422     -73.74     41.79         30.6         16.6   \n",
       "2017-07-22   64756   2.422     -73.74     41.79         27.7         15.6   \n",
       "2017-07-23   64756   2.422     -73.74     41.79         26.4         18.5   \n",
       "2017-07-24   64756   2.422     -73.74     41.79         19.4         14.8   \n",
       "2017-07-25   64756   2.422     -73.74     41.79         18.6         13.7   \n",
       "2017-07-26   64756   2.422     -73.74     41.79         24.7         11.2   \n",
       "2017-07-27   64756   2.422     -73.74     41.79         24.2         15.2   \n",
       "2017-07-28   64756   2.422     -73.74     41.79         26.5         16.9   \n",
       "2017-07-29   64756   2.422     -73.74     41.79         24.2         10.4   \n",
       "2017-07-30   64756   2.422     -73.74     41.79         25.5          8.2   \n",
       "2017-07-31   64756   2.422     -73.74     41.79         29.4         10.1   \n",
       "\n",
       "            T_DAILY_MEAN  T_DAILY_AVG  P_DAILY_CALC  SOLARAD_DAILY  ...  \\\n",
       "LST_DATE                                                            ...   \n",
       "2017-07-01          23.9         23.8           0.2          19.28  ...   \n",
       "2017-07-02          24.1         23.7           4.0          27.67  ...   \n",
       "2017-07-03          21.7         21.4           0.0          27.08  ...   \n",
       "2017-07-04          19.7         20.0           0.0          29.45  ...   \n",
       "2017-07-05          20.0         20.7           0.0          26.90  ...   \n",
       "2017-07-06          20.0         20.3           0.0          19.03  ...   \n",
       "2017-07-07          21.3         20.0          11.5          13.88  ...   \n",
       "2017-07-08          22.1         21.5           0.0          21.92  ...   \n",
       "2017-07-09          18.6         19.4           0.0          29.72  ...   \n",
       "2017-07-10          19.7         21.3           0.0          23.67  ...   \n",
       "2017-07-11          23.3         22.6           8.5          17.79  ...   \n",
       "2017-07-12          23.9         23.1           1.9          16.27  ...   \n",
       "2017-07-13          23.9         23.4          23.3          13.61  ...   \n",
       "2017-07-14          17.2         17.5           4.1           5.36  ...   \n",
       "2017-07-15          21.5         21.0           0.8          21.13  ...   \n",
       "2017-07-16          20.6         21.0           0.0          27.03  ...   \n",
       "2017-07-17          22.6         22.9           0.0          20.47  ...   \n",
       "2017-07-18          24.8         24.7           0.0          24.99  ...   \n",
       "2017-07-19          25.1         25.0           0.0          27.69  ...   \n",
       "2017-07-20          24.2         23.4           0.7          21.53  ...   \n",
       "2017-07-21          23.6         23.6           0.0          25.55  ...   \n",
       "2017-07-22          21.7         21.2           0.5          16.04  ...   \n",
       "2017-07-23          22.5         22.2           0.0          19.03  ...   \n",
       "2017-07-24          17.1         16.7          29.2           9.10  ...   \n",
       "2017-07-25          16.2         16.2           0.0           7.35  ...   \n",
       "2017-07-26          18.0         18.3           0.0          22.22  ...   \n",
       "2017-07-27          19.7         19.5           0.0           8.28  ...   \n",
       "2017-07-28          21.7         20.9           0.0          21.06  ...   \n",
       "2017-07-29          17.3         18.1           0.0          21.28  ...   \n",
       "2017-07-30          16.8         17.3           0.0          27.68  ...   \n",
       "2017-07-31          19.7         20.1           0.0          25.49  ...   \n",
       "\n",
       "           SOIL_MOISTURE_5_DAILY  SOIL_MOISTURE_10_DAILY  \\\n",
       "LST_DATE                                                   \n",
       "2017-07-01                 0.157                   0.136   \n",
       "2017-07-02                 0.146                   0.135   \n",
       "2017-07-03                 0.141                   0.132   \n",
       "2017-07-04                 0.131                   0.126   \n",
       "2017-07-05                 0.116                   0.114   \n",
       "2017-07-06                 0.105                   0.104   \n",
       "2017-07-07                 0.114                   0.100   \n",
       "2017-07-08                 0.130                   0.106   \n",
       "2017-07-09                 0.119                   0.103   \n",
       "2017-07-10                 0.105                   0.096   \n",
       "2017-07-11                 0.106                   0.093   \n",
       "2017-07-12                 0.108                   0.094   \n",
       "2017-07-13                 0.134                   0.110   \n",
       "2017-07-14                 0.194                   0.151   \n",
       "2017-07-15                 0.190                   0.163   \n",
       "2017-07-16                 0.171                   0.154   \n",
       "2017-07-17                 0.155                   0.143   \n",
       "2017-07-18                 0.142                   0.132   \n",
       "2017-07-19                 0.126                   0.118   \n",
       "2017-07-20                 0.111                   0.103   \n",
       "2017-07-21                 0.100                   0.093   \n",
       "2017-07-22                 0.092                   0.086   \n",
       "2017-07-23                 0.087                   0.082   \n",
       "2017-07-24                 0.145                   0.118   \n",
       "2017-07-25                 0.167                   0.133   \n",
       "2017-07-26                 0.155                   0.128   \n",
       "2017-07-27                 0.144                   0.122   \n",
       "2017-07-28                 0.137                   0.117   \n",
       "2017-07-29                 0.126                   0.108   \n",
       "2017-07-30                 0.113                   0.099   \n",
       "2017-07-31                 0.101                   0.090   \n",
       "\n",
       "            SOIL_MOISTURE_20_DAILY  SOIL_MOISTURE_50_DAILY  \\\n",
       "LST_DATE                                                     \n",
       "2017-07-01                   0.144                   0.129   \n",
       "2017-07-02                   0.143                   0.129   \n",
       "2017-07-03                   0.139                   0.128   \n",
       "2017-07-04                   0.136                   0.126   \n",
       "2017-07-05                   0.131                   0.125   \n",
       "2017-07-06                   0.126                   0.124   \n",
       "2017-07-07                   0.123                   0.123   \n",
       "2017-07-08                   0.122                   0.123   \n",
       "2017-07-09                   0.119                   0.121   \n",
       "2017-07-10                   0.113                   0.120   \n",
       "2017-07-11                   0.110                   0.120   \n",
       "2017-07-12                   0.108                   0.118   \n",
       "2017-07-13                   0.108                   0.118   \n",
       "2017-07-14                   0.114                   0.120   \n",
       "2017-07-15                   0.119                   0.122   \n",
       "2017-07-16                   0.123                   0.123   \n",
       "2017-07-17                   0.124                   0.122   \n",
       "2017-07-18                   0.122                   0.122   \n",
       "2017-07-19                   0.118                   0.122   \n",
       "2017-07-20                   0.114                   0.121   \n",
       "2017-07-21                   0.108                   0.120   \n",
       "2017-07-22                   0.104                   0.119   \n",
       "2017-07-23                   0.100                   0.118   \n",
       "2017-07-24                   0.102                   0.117   \n",
       "2017-07-25                   0.107                   0.116   \n",
       "2017-07-26                   0.108                   0.118   \n",
       "2017-07-27                   0.109                   0.118   \n",
       "2017-07-28                   0.110                   0.119   \n",
       "2017-07-29                   0.108                   0.118   \n",
       "2017-07-30                   0.104                   0.117   \n",
       "2017-07-31                   0.099                   0.116   \n",
       "\n",
       "            SOIL_MOISTURE_100_DAILY  SOIL_TEMP_5_DAILY  SOIL_TEMP_10_DAILY  \\\n",
       "LST_DATE                                                                     \n",
       "2017-07-01                    0.163               25.7                25.4   \n",
       "2017-07-02                    0.162               26.8                26.4   \n",
       "2017-07-03                    0.162               26.4                26.3   \n",
       "2017-07-04                    0.161               25.9                25.8   \n",
       "2017-07-05                    0.161               25.3                25.3   \n",
       "2017-07-06                    0.160               24.7                24.7   \n",
       "2017-07-07                    0.160               24.2                24.2   \n",
       "2017-07-08                    0.159               25.5                25.3   \n",
       "2017-07-09                    0.158               24.8                24.8   \n",
       "2017-07-10                    0.158               24.7                24.7   \n",
       "2017-07-11                    0.157               25.6                25.4   \n",
       "2017-07-12                    0.157               25.8                25.6   \n",
       "2017-07-13                    0.156               25.7                25.7   \n",
       "2017-07-14                    0.155               23.0                23.3   \n",
       "2017-07-15                    0.155               24.6                24.4   \n",
       "2017-07-16                    0.155               25.4                25.3   \n",
       "2017-07-17                    0.156               25.7                25.6   \n",
       "2017-07-18                    0.156               27.0                26.7   \n",
       "2017-07-19                    0.156               27.6                27.4   \n",
       "2017-07-20                    0.156               27.0                27.0   \n",
       "2017-07-21                    0.155               27.1                27.0   \n",
       "2017-07-22                    0.156               25.9                26.1   \n",
       "2017-07-23                    0.155               26.0                26.0   \n",
       "2017-07-24                    0.154               23.1                23.6   \n",
       "2017-07-25                    0.153               21.9                22.2   \n",
       "2017-07-26                    0.152               22.9                23.0   \n",
       "2017-07-27                    0.154               22.5                22.7   \n",
       "2017-07-28                    0.154               24.1                24.1   \n",
       "2017-07-29                    0.154               23.3                23.6   \n",
       "2017-07-30                    0.154               22.8                23.0   \n",
       "2017-07-31                    0.153               23.8                23.8   \n",
       "\n",
       "            SOIL_TEMP_20_DAILY  SOIL_TEMP_50_DAILY  SOIL_TEMP_100_DAILY  \n",
       "LST_DATE                                                                 \n",
       "2017-07-01                23.7                21.9                 19.9  \n",
       "2017-07-02                24.5                22.3                 20.1  \n",
       "2017-07-03                24.8                22.8                 20.3  \n",
       "2017-07-04                24.6                22.9                 20.6  \n",
       "2017-07-05                24.2                22.8                 20.7  \n",
       "2017-07-06                23.9                22.7                 20.9  \n",
       "2017-07-07                23.4                22.4                 20.8  \n",
       "2017-07-08                23.9                22.4                 20.8  \n",
       "2017-07-09                23.8                22.5                 20.8  \n",
       "2017-07-10                23.6                22.5                 20.9  \n",
       "2017-07-11                24.1                22.6                 20.9  \n",
       "2017-07-12                24.2                22.8                 21.0  \n",
       "2017-07-13                24.4                23.0                 21.0  \n",
       "2017-07-14                23.4                22.9                 21.2  \n",
       "2017-07-15                23.2                22.2                 21.2  \n",
       "2017-07-16                23.9                22.6                 21.1  \n",
       "2017-07-17                24.4                22.9                 21.2  \n",
       "2017-07-18                24.9                23.2                 21.3  \n",
       "2017-07-19                25.6                23.7                 21.5  \n",
       "2017-07-20                25.6                24.0                 21.7  \n",
       "2017-07-21                25.5                24.0                 21.9  \n",
       "2017-07-22                25.3                24.1                 22.0  \n",
       "2017-07-23                24.9                23.8                 22.1  \n",
       "2017-07-24                23.9                23.5                 22.1  \n",
       "2017-07-25                22.4                22.5                 21.9  \n",
       "2017-07-26                22.3                22.0                 21.7  \n",
       "2017-07-27                22.4                22.0                 21.4  \n",
       "2017-07-28                22.8                22.0                 21.3  \n",
       "2017-07-29                23.0                22.2                 21.3  \n",
       "2017-07-30                22.4                22.0                 21.3  \n",
       "2017-07-31                22.7                21.9                 21.2  \n",
       "\n",
       "[31 rows x 27 columns]"
      ]
     },
     "execution_count": 41,
     "metadata": {},
     "output_type": "execute_result"
    }
   ],
   "source": [
    "df.loc['2017-07-01':'2017-07-31']"
   ]
  },
  {
   "cell_type": "markdown",
   "metadata": {},
   "source": [
    "### Quick Statistics"
   ]
  },
  {
   "cell_type": "code",
   "execution_count": 42,
   "metadata": {},
   "outputs": [
    {
     "data": {
      "text/html": [
       "<div>\n",
       "<style scoped>\n",
       "    .dataframe tbody tr th:only-of-type {\n",
       "        vertical-align: middle;\n",
       "    }\n",
       "\n",
       "    .dataframe tbody tr th {\n",
       "        vertical-align: top;\n",
       "    }\n",
       "\n",
       "    .dataframe thead th {\n",
       "        text-align: right;\n",
       "    }\n",
       "</style>\n",
       "<table border=\"1\" class=\"dataframe\">\n",
       "  <thead>\n",
       "    <tr style=\"text-align: right;\">\n",
       "      <th></th>\n",
       "      <th>T_DAILY_MAX</th>\n",
       "      <th>T_DAILY_MIN</th>\n",
       "      <th>T_DAILY_MEAN</th>\n",
       "      <th>T_DAILY_AVG</th>\n",
       "      <th>P_DAILY_CALC</th>\n",
       "      <th>SOLARAD_DAILY</th>\n",
       "      <th>SUR_TEMP_DAILY_MAX</th>\n",
       "      <th>SUR_TEMP_DAILY_MIN</th>\n",
       "      <th>SUR_TEMP_DAILY_AVG</th>\n",
       "      <th>RH_DAILY_MAX</th>\n",
       "      <th>...</th>\n",
       "      <th>SOIL_MOISTURE_5_DAILY</th>\n",
       "      <th>SOIL_MOISTURE_10_DAILY</th>\n",
       "      <th>SOIL_MOISTURE_20_DAILY</th>\n",
       "      <th>SOIL_MOISTURE_50_DAILY</th>\n",
       "      <th>SOIL_MOISTURE_100_DAILY</th>\n",
       "      <th>SOIL_TEMP_5_DAILY</th>\n",
       "      <th>SOIL_TEMP_10_DAILY</th>\n",
       "      <th>SOIL_TEMP_20_DAILY</th>\n",
       "      <th>SOIL_TEMP_50_DAILY</th>\n",
       "      <th>SOIL_TEMP_100_DAILY</th>\n",
       "    </tr>\n",
       "  </thead>\n",
       "  <tbody>\n",
       "    <tr>\n",
       "      <th>count</th>\n",
       "      <td>364.000000</td>\n",
       "      <td>364.000000</td>\n",
       "      <td>364.000000</td>\n",
       "      <td>364.000000</td>\n",
       "      <td>364.000000</td>\n",
       "      <td>364.000000</td>\n",
       "      <td>364.000000</td>\n",
       "      <td>364.000000</td>\n",
       "      <td>364.000000</td>\n",
       "      <td>364.000000</td>\n",
       "      <td>...</td>\n",
       "      <td>317.000000</td>\n",
       "      <td>317.000000</td>\n",
       "      <td>336.000000</td>\n",
       "      <td>364.000000</td>\n",
       "      <td>359.000000</td>\n",
       "      <td>364.000000</td>\n",
       "      <td>364.000000</td>\n",
       "      <td>364.000000</td>\n",
       "      <td>364.000000</td>\n",
       "      <td>364.000000</td>\n",
       "    </tr>\n",
       "    <tr>\n",
       "      <th>mean</th>\n",
       "      <td>15.720055</td>\n",
       "      <td>4.037912</td>\n",
       "      <td>9.876374</td>\n",
       "      <td>9.990110</td>\n",
       "      <td>2.797802</td>\n",
       "      <td>13.068187</td>\n",
       "      <td>22.396703</td>\n",
       "      <td>1.624451</td>\n",
       "      <td>10.248626</td>\n",
       "      <td>88.974176</td>\n",
       "      <td>...</td>\n",
       "      <td>0.183804</td>\n",
       "      <td>0.181000</td>\n",
       "      <td>0.156533</td>\n",
       "      <td>0.138286</td>\n",
       "      <td>0.162844</td>\n",
       "      <td>12.344231</td>\n",
       "      <td>12.308516</td>\n",
       "      <td>12.060989</td>\n",
       "      <td>11.960989</td>\n",
       "      <td>11.971978</td>\n",
       "    </tr>\n",
       "    <tr>\n",
       "      <th>std</th>\n",
       "      <td>10.502087</td>\n",
       "      <td>9.460676</td>\n",
       "      <td>9.727451</td>\n",
       "      <td>9.619168</td>\n",
       "      <td>7.238628</td>\n",
       "      <td>7.953074</td>\n",
       "      <td>15.043183</td>\n",
       "      <td>11.044597</td>\n",
       "      <td>11.448891</td>\n",
       "      <td>9.012024</td>\n",
       "      <td>...</td>\n",
       "      <td>0.047493</td>\n",
       "      <td>0.052697</td>\n",
       "      <td>0.042775</td>\n",
       "      <td>0.019207</td>\n",
       "      <td>0.013814</td>\n",
       "      <td>9.367742</td>\n",
       "      <td>9.350273</td>\n",
       "      <td>8.760899</td>\n",
       "      <td>8.082595</td>\n",
       "      <td>7.170197</td>\n",
       "    </tr>\n",
       "    <tr>\n",
       "      <th>min</th>\n",
       "      <td>-12.300000</td>\n",
       "      <td>-21.800000</td>\n",
       "      <td>-17.000000</td>\n",
       "      <td>-16.700000</td>\n",
       "      <td>0.000000</td>\n",
       "      <td>0.100000</td>\n",
       "      <td>-12.100000</td>\n",
       "      <td>-29.800000</td>\n",
       "      <td>-22.800000</td>\n",
       "      <td>49.800000</td>\n",
       "      <td>...</td>\n",
       "      <td>0.075000</td>\n",
       "      <td>0.074000</td>\n",
       "      <td>0.069000</td>\n",
       "      <td>0.100000</td>\n",
       "      <td>0.128000</td>\n",
       "      <td>-0.700000</td>\n",
       "      <td>-0.400000</td>\n",
       "      <td>0.200000</td>\n",
       "      <td>0.900000</td>\n",
       "      <td>1.900000</td>\n",
       "    </tr>\n",
       "    <tr>\n",
       "      <th>25%</th>\n",
       "      <td>6.900000</td>\n",
       "      <td>-2.775000</td>\n",
       "      <td>2.100000</td>\n",
       "      <td>2.275000</td>\n",
       "      <td>0.000000</td>\n",
       "      <td>6.225000</td>\n",
       "      <td>9.800000</td>\n",
       "      <td>-6.325000</td>\n",
       "      <td>0.200000</td>\n",
       "      <td>87.000000</td>\n",
       "      <td>...</td>\n",
       "      <td>0.148000</td>\n",
       "      <td>0.137000</td>\n",
       "      <td>0.118000</td>\n",
       "      <td>0.118000</td>\n",
       "      <td>0.155000</td>\n",
       "      <td>2.275000</td>\n",
       "      <td>2.075000</td>\n",
       "      <td>2.575000</td>\n",
       "      <td>3.300000</td>\n",
       "      <td>4.100000</td>\n",
       "    </tr>\n",
       "    <tr>\n",
       "      <th>50%</th>\n",
       "      <td>17.450000</td>\n",
       "      <td>4.350000</td>\n",
       "      <td>10.850000</td>\n",
       "      <td>11.050000</td>\n",
       "      <td>0.000000</td>\n",
       "      <td>12.865000</td>\n",
       "      <td>25.150000</td>\n",
       "      <td>1.500000</td>\n",
       "      <td>12.400000</td>\n",
       "      <td>92.900000</td>\n",
       "      <td>...</td>\n",
       "      <td>0.192000</td>\n",
       "      <td>0.198000</td>\n",
       "      <td>0.169000</td>\n",
       "      <td>0.147000</td>\n",
       "      <td>0.166000</td>\n",
       "      <td>13.300000</td>\n",
       "      <td>13.350000</td>\n",
       "      <td>13.100000</td>\n",
       "      <td>12.850000</td>\n",
       "      <td>11.650000</td>\n",
       "    </tr>\n",
       "    <tr>\n",
       "      <th>75%</th>\n",
       "      <td>24.850000</td>\n",
       "      <td>11.900000</td>\n",
       "      <td>18.150000</td>\n",
       "      <td>18.450000</td>\n",
       "      <td>1.400000</td>\n",
       "      <td>19.740000</td>\n",
       "      <td>35.900000</td>\n",
       "      <td>10.600000</td>\n",
       "      <td>20.400000</td>\n",
       "      <td>94.700000</td>\n",
       "      <td>...</td>\n",
       "      <td>0.221000</td>\n",
       "      <td>0.219000</td>\n",
       "      <td>0.188000</td>\n",
       "      <td>0.152250</td>\n",
       "      <td>0.173000</td>\n",
       "      <td>21.025000</td>\n",
       "      <td>21.125000</td>\n",
       "      <td>20.400000</td>\n",
       "      <td>19.800000</td>\n",
       "      <td>19.325000</td>\n",
       "    </tr>\n",
       "    <tr>\n",
       "      <th>max</th>\n",
       "      <td>33.400000</td>\n",
       "      <td>20.700000</td>\n",
       "      <td>25.700000</td>\n",
       "      <td>26.700000</td>\n",
       "      <td>65.700000</td>\n",
       "      <td>29.910000</td>\n",
       "      <td>45.700000</td>\n",
       "      <td>21.000000</td>\n",
       "      <td>28.000000</td>\n",
       "      <td>97.800000</td>\n",
       "      <td>...</td>\n",
       "      <td>0.294000</td>\n",
       "      <td>0.321000</td>\n",
       "      <td>0.231000</td>\n",
       "      <td>0.170000</td>\n",
       "      <td>0.192000</td>\n",
       "      <td>27.600000</td>\n",
       "      <td>27.400000</td>\n",
       "      <td>25.600000</td>\n",
       "      <td>24.100000</td>\n",
       "      <td>22.100000</td>\n",
       "    </tr>\n",
       "  </tbody>\n",
       "</table>\n",
       "<p>8 rows × 22 columns</p>\n",
       "</div>"
      ],
      "text/plain": [
       "       T_DAILY_MAX  T_DAILY_MIN  T_DAILY_MEAN  T_DAILY_AVG  P_DAILY_CALC  \\\n",
       "count   364.000000   364.000000    364.000000   364.000000    364.000000   \n",
       "mean     15.720055     4.037912      9.876374     9.990110      2.797802   \n",
       "std      10.502087     9.460676      9.727451     9.619168      7.238628   \n",
       "min     -12.300000   -21.800000    -17.000000   -16.700000      0.000000   \n",
       "25%       6.900000    -2.775000      2.100000     2.275000      0.000000   \n",
       "50%      17.450000     4.350000     10.850000    11.050000      0.000000   \n",
       "75%      24.850000    11.900000     18.150000    18.450000      1.400000   \n",
       "max      33.400000    20.700000     25.700000    26.700000     65.700000   \n",
       "\n",
       "       SOLARAD_DAILY  SUR_TEMP_DAILY_MAX  SUR_TEMP_DAILY_MIN  \\\n",
       "count     364.000000          364.000000          364.000000   \n",
       "mean       13.068187           22.396703            1.624451   \n",
       "std         7.953074           15.043183           11.044597   \n",
       "min         0.100000          -12.100000          -29.800000   \n",
       "25%         6.225000            9.800000           -6.325000   \n",
       "50%        12.865000           25.150000            1.500000   \n",
       "75%        19.740000           35.900000           10.600000   \n",
       "max        29.910000           45.700000           21.000000   \n",
       "\n",
       "       SUR_TEMP_DAILY_AVG  RH_DAILY_MAX  ...  SOIL_MOISTURE_5_DAILY  \\\n",
       "count          364.000000    364.000000  ...             317.000000   \n",
       "mean            10.248626     88.974176  ...               0.183804   \n",
       "std             11.448891      9.012024  ...               0.047493   \n",
       "min            -22.800000     49.800000  ...               0.075000   \n",
       "25%              0.200000     87.000000  ...               0.148000   \n",
       "50%             12.400000     92.900000  ...               0.192000   \n",
       "75%             20.400000     94.700000  ...               0.221000   \n",
       "max             28.000000     97.800000  ...               0.294000   \n",
       "\n",
       "       SOIL_MOISTURE_10_DAILY  SOIL_MOISTURE_20_DAILY  SOIL_MOISTURE_50_DAILY  \\\n",
       "count              317.000000              336.000000              364.000000   \n",
       "mean                 0.181000                0.156533                0.138286   \n",
       "std                  0.052697                0.042775                0.019207   \n",
       "min                  0.074000                0.069000                0.100000   \n",
       "25%                  0.137000                0.118000                0.118000   \n",
       "50%                  0.198000                0.169000                0.147000   \n",
       "75%                  0.219000                0.188000                0.152250   \n",
       "max                  0.321000                0.231000                0.170000   \n",
       "\n",
       "       SOIL_MOISTURE_100_DAILY  SOIL_TEMP_5_DAILY  SOIL_TEMP_10_DAILY  \\\n",
       "count               359.000000         364.000000          364.000000   \n",
       "mean                  0.162844          12.344231           12.308516   \n",
       "std                   0.013814           9.367742            9.350273   \n",
       "min                   0.128000          -0.700000           -0.400000   \n",
       "25%                   0.155000           2.275000            2.075000   \n",
       "50%                   0.166000          13.300000           13.350000   \n",
       "75%                   0.173000          21.025000           21.125000   \n",
       "max                   0.192000          27.600000           27.400000   \n",
       "\n",
       "       SOIL_TEMP_20_DAILY  SOIL_TEMP_50_DAILY  SOIL_TEMP_100_DAILY  \n",
       "count          364.000000          364.000000           364.000000  \n",
       "mean            12.060989           11.960989            11.971978  \n",
       "std              8.760899            8.082595             7.170197  \n",
       "min              0.200000            0.900000             1.900000  \n",
       "25%              2.575000            3.300000             4.100000  \n",
       "50%             13.100000           12.850000            11.650000  \n",
       "75%             20.400000           19.800000            19.325000  \n",
       "max             25.600000           24.100000            22.100000  \n",
       "\n",
       "[8 rows x 22 columns]"
      ]
     },
     "execution_count": 42,
     "metadata": {},
     "output_type": "execute_result"
    }
   ],
   "source": [
    "df.iloc[:,4:].describe()"
   ]
  },
  {
   "cell_type": "markdown",
   "metadata": {},
   "source": [
    "### Plotting Values\n",
    "\n",
    "We can now quickly make plots of the data"
   ]
  },
  {
   "cell_type": "code",
   "execution_count": 43,
   "metadata": {},
   "outputs": [
    {
     "data": {
      "image/png": "[encoded data removed]",
      "text/plain": [
       "<Figure size 576x576 with 4 Axes>"
      ]
     },
     "metadata": {
      "needs_background": "light"
     },
     "output_type": "display_data"
    }
   ],
   "source": [
    "fig, ax = plt.subplots(ncols=2, nrows=2, figsize=(8,8), constrained_layout=True)\n",
    "\n",
    "ax[0,0].set_title('temperatures')\n",
    "df.iloc[:, 4:8].boxplot(ax=ax[0,0])\n",
    "df.iloc[:, 10:14].boxplot(ax=ax[0,1])\n",
    "df.iloc[:, 14:17].boxplot(ax=ax[1,0])\n",
    "df.iloc[:, 18:22].boxplot(ax=ax[1,1])\n",
    "\n",
    "for i in range(2):\n",
    "    for j in range(2):\n",
    "        ax[i,j].set_xticklabels(ax[i,j].get_xticklabels(), rotation=30);"
   ]
  },
  {
   "cell_type": "markdown",
   "metadata": {},
   "source": [
    "Pandas is very \"time aware\":"
   ]
  },
  {
   "cell_type": "code",
   "execution_count": 44,
   "metadata": {},
   "outputs": [
    {
     "data": {
      "text/plain": [
       "<AxesSubplot:xlabel='LST_DATE'>"
      ]
     },
     "execution_count": 44,
     "metadata": {},
     "output_type": "execute_result"
    },
    {
     "data": {
      "image/png": "[encoded data removed]",
      "text/plain": [
       "<Figure size 432x288 with 1 Axes>"
      ]
     },
     "metadata": {
      "needs_background": "light"
     },
     "output_type": "display_data"
    }
   ],
   "source": [
    "df.T_DAILY_MEAN.plot()"
   ]
  },
  {
   "cell_type": "markdown",
   "metadata": {},
   "source": [
    "Note: we could also manually create an axis and plot into it."
   ]
  },
  {
   "cell_type": "code",
   "execution_count": 45,
   "metadata": {},
   "outputs": [
    {
     "data": {
      "text/plain": [
       "Text(0.5, 1.0, 'Pandas Made This!')"
      ]
     },
     "execution_count": 45,
     "metadata": {},
     "output_type": "execute_result"
    },
    {
     "data": {
      "image/png": "[encoded data removed]",
      "text/plain": [
       "<Figure size 432x288 with 1 Axes>"
      ]
     },
     "metadata": {
      "needs_background": "light"
     },
     "output_type": "display_data"
    }
   ],
   "source": [
    "fig, ax = plt.subplots()\n",
    "df.T_DAILY_MEAN.plot(ax=ax)\n",
    "ax.set_title('Pandas Made This!')"
   ]
  },
  {
   "cell_type": "code",
   "execution_count": 46,
   "metadata": {},
   "outputs": [
    {
     "data": {
      "text/plain": [
       "<AxesSubplot:xlabel='LST_DATE'>"
      ]
     },
     "execution_count": 46,
     "metadata": {},
     "output_type": "execute_result"
    },
    {
     "data": {
      "image/png": "[encoded data removed]",
      "text/plain": [
       "<Figure size 432x288 with 1 Axes>"
      ]
     },
     "metadata": {
      "needs_background": "light"
     },
     "output_type": "display_data"
    }
   ],
   "source": [
    "temps_list = ['T_DAILY_MIN', 'T_DAILY_MEAN', 'T_DAILY_MAX']\n",
    "df[temps_list].plot()"
   ]
  },
  {
   "cell_type": "markdown",
   "metadata": {},
   "source": [
    "### Rolling operations"
   ]
  },
  {
   "cell_type": "markdown",
   "metadata": {},
   "source": [
    "We easily calculate the running mean by applying a [rolling](https://pandas.pydata.org/pandas-docs/stable/generated/pandas.DataFrame.rolling.html) window and specifying a function (in this case the `mean` function) to apply over a moving window along the index. We specify the size of the window and, optionally, the weights. We also use the keyword `centered` to tell pandas whether to center the operation around the midpoint of the window."
   ]
  },
  {
   "cell_type": "code",
   "execution_count": 47,
   "metadata": {},
   "outputs": [
    {
     "data": {
      "text/plain": [
       "<AxesSubplot:xlabel='LST_DATE'>"
      ]
     },
     "execution_count": 47,
     "metadata": {},
     "output_type": "execute_result"
    },
    {
     "data": {
      "image/png": "[encoded data removed]",
      "text/plain": [
       "<Figure size 432x288 with 1 Axes>"
      ]
     },
     "metadata": {
      "needs_background": "light"
     },
     "output_type": "display_data"
    }
   ],
   "source": [
    "df[temps_list].rolling(30, center=True).mean().plot()"
   ]
  },
  {
   "cell_type": "markdown",
   "metadata": {},
   "source": [
    "## <span style=\"color:blue\">Exercises</span>"
   ]
  },
  {
   "cell_type": "markdown",
   "metadata": {},
   "source": [
    "1. Convert the following dictionary into a Pandas Series and display on overview of basic statistics (count, mean, std, min,... see DataFrame subsection above). `d1 = {'a': 100, 'b': 200, 'c':300, 'd':400, 'e':800}`"
   ]
  },
  {
   "cell_type": "code",
   "execution_count": null,
   "metadata": {},
   "outputs": [],
   "source": []
  },
  {
   "cell_type": "markdown",
   "metadata": {},
   "source": [
    "2. Convert the following data into a DataFrame:\n",
    "```\n",
    "exam_data={'name': ['Anastasia', 'Dima', 'Katherine', 'James', 'Emily', 'Michael', 'Matthew', 'Laura', 'Kevin', 'Jonas'],\n",
    "              'score': [12.5, 9, 16.5, np.nan, 9, 20, 14.5, np.nan, 8, 19],\n",
    "              'attempts' : [1, 3, 2, 3, 2, 3, 1, 1, 2, 1],\n",
    "              'qualify': ['yes', 'no', 'yes', 'no', 'no', 'yes', 'yes', 'no', 'no', 'yes']}\n",
    "```\n",
    "Calculate the mean score, select those whose attemps>2, and calculate how many rows are missing a score (you can use the built-in `.isnull()` function)."
   ]
  },
  {
   "cell_type": "code",
   "execution_count": null,
   "metadata": {},
   "outputs": [],
   "source": []
  },
  {
   "cell_type": "markdown",
   "metadata": {},
   "source": [
    "3. Create a a daily time series from 2015-2020 with an noisy annual cycle. Resample the data by taking the mean over each month using `resample('M')`. Create the climatology (monhtly means) using the groupby(timeseries.index.month) operator.\n",
    "<img src=\"figures/3a3.png\" width=\"600\">"
   ]
  },
  {
   "cell_type": "markdown",
   "metadata": {},
   "source": [
    "## <span style=\"color:green\">Solutions</span>"
   ]
  },
  {
   "cell_type": "code",
   "execution_count": 48,
   "metadata": {
    "collapsed": true,
    "jupyter": {
     "outputs_hidden": true,
     "source_hidden": true
    }
   },
   "outputs": [
    {
     "name": "stdout",
     "output_type": "stream",
     "text": [
      "a    100\n",
      "b    200\n",
      "c    300\n",
      "d    400\n",
      "e    800\n",
      "dtype: int64\n"
     ]
    },
    {
     "data": {
      "text/plain": [
       "count      5.000000\n",
       "mean     360.000000\n",
       "std      270.185122\n",
       "min      100.000000\n",
       "25%      200.000000\n",
       "50%      300.000000\n",
       "75%      400.000000\n",
       "max      800.000000\n",
       "dtype: float64"
      ]
     },
     "execution_count": 48,
     "metadata": {},
     "output_type": "execute_result"
    }
   ],
   "source": [
    "# 1. Convert the following dictionary into a Pandas Series\n",
    "# and display on overview of basic statistics\n",
    "# (count, mean, std, min,... see DataFrame subsection above).\n",
    "d1 = {'a': 100, 'b': 200, 'c':300, 'd':400, 'e':800}\n",
    "new_series = pd.Series(d1)\n",
    "print(new_series)\n",
    "new_series.describe()"
   ]
  },
  {
   "cell_type": "code",
   "execution_count": 49,
   "metadata": {
    "collapsed": true,
    "jupyter": {
     "outputs_hidden": true,
     "source_hidden": true
    }
   },
   "outputs": [
    {
     "name": "stdout",
     "output_type": "stream",
     "text": [
      "The mean score:   13.5625\n",
      "Number of attempts in the examination is greater than 2:\n",
      "      name  score  attempts qualify\n",
      "1     Dima    9.0         3      no\n",
      "3    James    NaN         3      no\n",
      "5  Michael   20.0         3     yes\n",
      "This many rows are missing a score:   2\n"
     ]
    }
   ],
   "source": [
    "# 2. Convert the following data into a DataFrame:\n",
    "# Calculate the mean score, select those whose attemps>2, \n",
    "# and calculate how many rows are missing a score (you can use the built-in `.isnull()` function).\n",
    "\n",
    "exam_data={'name': ['Anastasia', 'Dima', 'Katherine', 'James', 'Emily', 'Michael', 'Matthew', 'Laura', 'Kevin', 'Jonas'],\n",
    "           'score': [12.5, 9, 16.5, np.nan, 9, 20, 14.5, np.nan, 8, 19],\n",
    "           'attempts' : [1, 3, 2, 3, 2, 3, 1, 1, 2, 1],\n",
    "           'qualify': ['yes', 'no', 'yes', 'no', 'no', 'yes', 'yes', 'no', 'no', 'yes']}\n",
    "exams = pd.DataFrame(exam_data)\n",
    "print(f'The mean score:   {exams[\"score\"].mean()}')\n",
    "\n",
    "print(\"Number of attempts in the examination is greater than 2:\")\n",
    "print(exams[exams['attempts'] > 2])\n",
    "\n",
    "print(f'This many rows are missing a score:   {len(exams[exams[\"score\"].isnull()])}')"
   ]
  },
  {
   "cell_type": "code",
   "execution_count": 50,
   "metadata": {
    "collapsed": true,
    "jupyter": {
     "outputs_hidden": true,
     "source_hidden": true
    }
   },
   "outputs": [
    {
     "data": {
      "image/png": "[encoded data removed]",
      "text/plain": [
       "<Figure size 720x432 with 2 Axes>"
      ]
     },
     "metadata": {
      "needs_background": "light"
     },
     "output_type": "display_data"
    }
   ],
   "source": [
    "# 3. Create a a daily time series from 2015-2020 with an noisy annual cycle.\n",
    "# Resample the data by taking the mean over each month using `resample('M')`.\n",
    "# Create the climatology (monhtly means) using the groupby(timeseries.index.month) operator.\n",
    "\n",
    "dates = pd.date_range(start='2015-01-01', end='2020-01-01', freq='D')\n",
    "timeseries = pd.Series(.5*np.sin(2*np.pi*dates.dayofyear/365)+np.random.rand((len(dates)))-.5,\n",
    "                       index=dates)\n",
    "fig, ax = plt.subplots(1, 2, figsize=(10,6), sharey=True)\n",
    "\n",
    "timeseries.plot(ax=ax[0], label='daily values', alpha=.5)\n",
    "timeseries.resample('M').mean().plot(ax=ax[0], label='monthly means')\n",
    "ax[0].legend()\n",
    "ax[0].set_xlabel('time [years C.E.]')\n",
    "ax[0].set_ylabel('values')\n",
    "\n",
    "timeseries.groupby(timeseries.index.month).mean().plot(ax=ax[1], label='climatology over five years')\n",
    "ax[1].legend()\n",
    "ax[0].set_xlabel('time [month]')\n",
    "plt.savefig('figures/3a3')"
   ]
  }
 ],
 "metadata": {
  "kernelspec": {
   "display_name": "Python 3",
   "language": "python",
   "name": "python3"
  },
  "language_info": {
   "codemirror_mode": {
    "name": "ipython",
    "version": 3
   },
   "file_extension": ".py",
   "mimetype": "text/x-python",
   "name": "python",
   "nbconvert_exporter": "python",
   "pygments_lexer": "ipython3",
   "version": "3.8.5"
  }
 },
 "nbformat": 4,
 "nbformat_minor": 4
}
