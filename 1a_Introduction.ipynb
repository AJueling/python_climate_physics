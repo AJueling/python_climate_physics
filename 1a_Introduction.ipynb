{
 "cells": [
  {
   "cell_type": "markdown",
   "metadata": {},
   "source": [
    "# Introduction to `Python for Climate Physics` workshop 1\n",
    "\n",
    "Much of this content was reused from [Earth and Environmental Data Science](https://earth-env-data-science.github.io/intro) by Ryan Abernathey which is licensed under the [Creative Commons Attribution-ShareAlike 4.0 International](https://creativecommons.org/licenses/by-sa/4.0/) (CC BY-SA 4.0) license."
   ]
  },
  {
   "cell_type": "markdown",
   "metadata": {},
   "source": [
    "## Invoking Python ##\n",
    "\n",
    "There are three main ways to use python.\n",
    "\n",
    "1. By running a python file, e.g. `python myscript.py`\n",
    "1. Through an interactive console (python interpreter or ipython shell)\n",
    "1. In an interactive notebook (e.g. Jupyter)\n",
    "\n",
    "In this course, we will mostly be interacting with python via Jupyter Notebooks."
   ]
  },
  {
   "cell_type": "markdown",
   "metadata": {},
   "source": [
    "## Python Version\n",
    "\n",
    "There are two versions of the python language out there: python 2 and python 3.\n",
    "As of 2020, the vast majority of the scientific community now uses python 3.\n",
    "As new python learners, you should definitely learn python 3.\n",
    "But it is important to be aware that python 2 exists, since you might encounter it in the wild. \n",
    "\n",
    "Some of the main changes introduced in python 3 are:\n",
    "\n",
    "* `print` is a function\n",
    "* Integer division returns a float\n",
    "* Iterators behave differently\n",
    "* Unicode is used for encoding code\n"
   ]
  },
  {
   "cell_type": "markdown",
   "metadata": {},
   "source": [
    "## Working with Jupyter Notebooks\n",
    "Jupyter Notebooks are documents that combine executable scripts (e.g. in Python, but many other languages are supported) and markdown.\n",
    "Their contents are grouped into cells that can be executed independently.\n",
    "\n",
    "Notebook files (`.ipynb`) are human-readable text files, but they need to be opened with a program that can connect it to an active Python kernel.\n",
    "We will use the `Jupyterlab` app or the Jupyter `Notebook` app.\n",
    "You can start those either in the terminal (MacOS/Linux) or the Anaconda prompt (Windows) with the commands `jupyterlab` or `jupyter notebook`.\n",
    "Alternatively, if you installed Anaconda, you can use their graphical user interface, the Anaconda Navigator.\n",
    "\n",
    "Some text editors, such as `vscode`, can also work with notebooks.\n",
    "(binder/)"
   ]
  },
  {
   "cell_type": "markdown",
   "metadata": {},
   "source": [
    "### edit mode vs. command mode\n",
    "Jupyter Notebook has a modal user interface.\n",
    "This means that the keyboard does different things depending on which mode the Notebook is in.\n",
    "There are two modes: Edit mode and Command mode.\n",
    "\n",
    "Edit mode allows you to type into the cells like a normal text editor(and you will see a blinking cursor). Command mode allows you to edit the notebook as a whole, but not type into individual cells.\n",
    "You can swith from edit to command by pressing `Esc`, and return to edit mode by pressing `Enter` or double clicking on a cell. In the Notebook app, the color bar left of the cell changes between green and blue, depending on the mode."
   ]
  },
  {
   "cell_type": "markdown",
   "metadata": {},
   "source": [
    "### handy shortcuts\n",
    "In principle, you can execute cells and navigate the notebook by using the graphical user interface, but there are several handy shortcuts:\n",
    "(in edit and command mode):\n",
    "- `Ctrl`+`Enter`: execute cell and stay in the current one\n",
    "- `Shift`+`Enter`: execute cell and move to the one below\n",
    "(in command mode):\n",
    "- `a`/`b`: creates a new cell above/below the current one\n",
    "- `d`+`d`: deletes cell\n",
    "- `z`: undo\n",
    "- `m`/`r`/`y`: changes cell to markdown/raw/code respectively\n",
    "- `Ctrl`+`b` (Windows, Linux), `Cmd`+`b`: toggle visibility of file browser on the left"
   ]
  },
  {
   "cell_type": "markdown",
   "metadata": {},
   "source": [
    "## basic Unix commands\n",
    "* `pwd` \"print working directory\" prints the path you are corrently located\n",
    "* `ls` \"lists\" all files and folder in current location\n",
    "* `cd name/of/folder` changes location to `name/of/folder`, `..` means one level up, `../..` means two levels up, and so on\n",
    "* `mkdir newfolder` \"make directory\" creates `newfolder` in current location"
   ]
  },
  {
   "cell_type": "markdown",
   "metadata": {},
   "source": [
    "## <span style=\"color:blue\">Exercises</span>"
   ]
  },
  {
   "cell_type": "markdown",
   "metadata": {},
   "source": [
    "1. Open a this notebook.\n",
    "2. Use the empty code cell below as a fancy calculator to compute 1+1.\n",
    "3. Create cell above/below with the shortcuts.\n",
    "4. Delete a cell.\n",
    "5. Change cell type.\n",
    "6. Create a heading hyperlink in a markdown cell (compare first cell)."
   ]
  },
  {
   "cell_type": "code",
   "execution_count": null,
   "metadata": {},
   "outputs": [],
   "source": []
  }
 ],
 "metadata": {
  "kernelspec": {
   "display_name": "Python 3",
   "language": "python",
   "name": "python3"
  },
  "language_info": {
   "codemirror_mode": {
    "name": "ipython",
    "version": 3
   },
   "file_extension": ".py",
   "mimetype": "text/x-python",
   "name": "python",
   "nbconvert_exporter": "python",
   "pygments_lexer": "ipython3",
   "version": "3.8.5"
  }
 },
 "nbformat": 4,
 "nbformat_minor": 4
}
